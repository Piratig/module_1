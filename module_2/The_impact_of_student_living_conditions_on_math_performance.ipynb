{
 "cells": [
  {
   "cell_type": "markdown",
   "id": "0c1361e4",
   "metadata": {},
   "source": [
    "# Libraries"
   ]
  },
  {
   "cell_type": "code",
   "execution_count": 1,
   "id": "b9a4397e",
   "metadata": {},
   "outputs": [],
   "source": [
    "import pandas as pd\n",
    "import matplotlib.pyplot as plt\n",
    "import seaborn as sns\n",
    "from itertools import combinations\n",
    "from scipy.stats import ttest_ind"
   ]
  },
  {
   "cell_type": "markdown",
   "id": "dd541311",
   "metadata": {},
   "source": [
    "# First data review (Первичный отсмотр данных)"
   ]
  },
  {
   "cell_type": "code",
   "execution_count": 2,
   "id": "b7edb32d",
   "metadata": {},
   "outputs": [
    {
     "data": {
      "text/html": [
       "<div>\n",
       "<style scoped>\n",
       "    .dataframe tbody tr th:only-of-type {\n",
       "        vertical-align: middle;\n",
       "    }\n",
       "\n",
       "    .dataframe tbody tr th {\n",
       "        vertical-align: top;\n",
       "    }\n",
       "\n",
       "    .dataframe thead th {\n",
       "        text-align: right;\n",
       "    }\n",
       "</style>\n",
       "<table border=\"1\" class=\"dataframe\">\n",
       "  <thead>\n",
       "    <tr style=\"text-align: right;\">\n",
       "      <th></th>\n",
       "      <th>school</th>\n",
       "      <th>sex</th>\n",
       "      <th>age</th>\n",
       "      <th>address</th>\n",
       "      <th>famsize</th>\n",
       "      <th>Pstatus</th>\n",
       "      <th>Medu</th>\n",
       "      <th>Fedu</th>\n",
       "      <th>Mjob</th>\n",
       "      <th>Fjob</th>\n",
       "      <th>reason</th>\n",
       "      <th>guardian</th>\n",
       "      <th>traveltime</th>\n",
       "      <th>studytime</th>\n",
       "      <th>failures</th>\n",
       "      <th>schoolsup</th>\n",
       "      <th>famsup</th>\n",
       "      <th>paid</th>\n",
       "      <th>activities</th>\n",
       "      <th>nursery</th>\n",
       "      <th>studytime_granular</th>\n",
       "      <th>higher</th>\n",
       "      <th>internet</th>\n",
       "      <th>romantic</th>\n",
       "      <th>famrel</th>\n",
       "      <th>freetime</th>\n",
       "      <th>goout</th>\n",
       "      <th>health</th>\n",
       "      <th>absences</th>\n",
       "      <th>score</th>\n",
       "    </tr>\n",
       "  </thead>\n",
       "  <tbody>\n",
       "    <tr>\n",
       "      <th>0</th>\n",
       "      <td>GP</td>\n",
       "      <td>F</td>\n",
       "      <td>18</td>\n",
       "      <td>U</td>\n",
       "      <td>NaN</td>\n",
       "      <td>A</td>\n",
       "      <td>4.0</td>\n",
       "      <td>4.0</td>\n",
       "      <td>at_home</td>\n",
       "      <td>teacher</td>\n",
       "      <td>course</td>\n",
       "      <td>mother</td>\n",
       "      <td>2.0</td>\n",
       "      <td>2.0</td>\n",
       "      <td>0.0</td>\n",
       "      <td>yes</td>\n",
       "      <td>no</td>\n",
       "      <td>no</td>\n",
       "      <td>no</td>\n",
       "      <td>yes</td>\n",
       "      <td>-6.0</td>\n",
       "      <td>yes</td>\n",
       "      <td>NaN</td>\n",
       "      <td>no</td>\n",
       "      <td>4.0</td>\n",
       "      <td>3.0</td>\n",
       "      <td>4.0</td>\n",
       "      <td>3.0</td>\n",
       "      <td>6.0</td>\n",
       "      <td>30.0</td>\n",
       "    </tr>\n",
       "    <tr>\n",
       "      <th>1</th>\n",
       "      <td>GP</td>\n",
       "      <td>F</td>\n",
       "      <td>17</td>\n",
       "      <td>U</td>\n",
       "      <td>GT3</td>\n",
       "      <td>NaN</td>\n",
       "      <td>1.0</td>\n",
       "      <td>1.0</td>\n",
       "      <td>at_home</td>\n",
       "      <td>other</td>\n",
       "      <td>course</td>\n",
       "      <td>father</td>\n",
       "      <td>1.0</td>\n",
       "      <td>2.0</td>\n",
       "      <td>0.0</td>\n",
       "      <td>no</td>\n",
       "      <td>yes</td>\n",
       "      <td>no</td>\n",
       "      <td>no</td>\n",
       "      <td>no</td>\n",
       "      <td>-6.0</td>\n",
       "      <td>yes</td>\n",
       "      <td>yes</td>\n",
       "      <td>no</td>\n",
       "      <td>5.0</td>\n",
       "      <td>3.0</td>\n",
       "      <td>3.0</td>\n",
       "      <td>3.0</td>\n",
       "      <td>4.0</td>\n",
       "      <td>30.0</td>\n",
       "    </tr>\n",
       "    <tr>\n",
       "      <th>2</th>\n",
       "      <td>GP</td>\n",
       "      <td>F</td>\n",
       "      <td>15</td>\n",
       "      <td>U</td>\n",
       "      <td>LE3</td>\n",
       "      <td>T</td>\n",
       "      <td>1.0</td>\n",
       "      <td>1.0</td>\n",
       "      <td>at_home</td>\n",
       "      <td>other</td>\n",
       "      <td>other</td>\n",
       "      <td>mother</td>\n",
       "      <td>1.0</td>\n",
       "      <td>2.0</td>\n",
       "      <td>3.0</td>\n",
       "      <td>yes</td>\n",
       "      <td>no</td>\n",
       "      <td>NaN</td>\n",
       "      <td>no</td>\n",
       "      <td>yes</td>\n",
       "      <td>-6.0</td>\n",
       "      <td>yes</td>\n",
       "      <td>yes</td>\n",
       "      <td>NaN</td>\n",
       "      <td>4.0</td>\n",
       "      <td>3.0</td>\n",
       "      <td>2.0</td>\n",
       "      <td>3.0</td>\n",
       "      <td>10.0</td>\n",
       "      <td>50.0</td>\n",
       "    </tr>\n",
       "    <tr>\n",
       "      <th>3</th>\n",
       "      <td>GP</td>\n",
       "      <td>F</td>\n",
       "      <td>15</td>\n",
       "      <td>U</td>\n",
       "      <td>GT3</td>\n",
       "      <td>T</td>\n",
       "      <td>4.0</td>\n",
       "      <td>2.0</td>\n",
       "      <td>health</td>\n",
       "      <td>NaN</td>\n",
       "      <td>home</td>\n",
       "      <td>mother</td>\n",
       "      <td>1.0</td>\n",
       "      <td>3.0</td>\n",
       "      <td>0.0</td>\n",
       "      <td>no</td>\n",
       "      <td>yes</td>\n",
       "      <td>yes</td>\n",
       "      <td>yes</td>\n",
       "      <td>yes</td>\n",
       "      <td>-9.0</td>\n",
       "      <td>yes</td>\n",
       "      <td>yes</td>\n",
       "      <td>yes</td>\n",
       "      <td>3.0</td>\n",
       "      <td>2.0</td>\n",
       "      <td>2.0</td>\n",
       "      <td>5.0</td>\n",
       "      <td>2.0</td>\n",
       "      <td>75.0</td>\n",
       "    </tr>\n",
       "    <tr>\n",
       "      <th>4</th>\n",
       "      <td>GP</td>\n",
       "      <td>F</td>\n",
       "      <td>16</td>\n",
       "      <td>U</td>\n",
       "      <td>GT3</td>\n",
       "      <td>T</td>\n",
       "      <td>3.0</td>\n",
       "      <td>3.0</td>\n",
       "      <td>other</td>\n",
       "      <td>other</td>\n",
       "      <td>home</td>\n",
       "      <td>father</td>\n",
       "      <td>1.0</td>\n",
       "      <td>2.0</td>\n",
       "      <td>0.0</td>\n",
       "      <td>no</td>\n",
       "      <td>yes</td>\n",
       "      <td>yes</td>\n",
       "      <td>no</td>\n",
       "      <td>yes</td>\n",
       "      <td>-6.0</td>\n",
       "      <td>yes</td>\n",
       "      <td>no</td>\n",
       "      <td>no</td>\n",
       "      <td>4.0</td>\n",
       "      <td>3.0</td>\n",
       "      <td>2.0</td>\n",
       "      <td>5.0</td>\n",
       "      <td>4.0</td>\n",
       "      <td>50.0</td>\n",
       "    </tr>\n",
       "    <tr>\n",
       "      <th>5</th>\n",
       "      <td>GP</td>\n",
       "      <td>M</td>\n",
       "      <td>16</td>\n",
       "      <td>U</td>\n",
       "      <td>LE3</td>\n",
       "      <td>T</td>\n",
       "      <td>4.0</td>\n",
       "      <td>3.0</td>\n",
       "      <td>services</td>\n",
       "      <td>other</td>\n",
       "      <td>reputation</td>\n",
       "      <td>mother</td>\n",
       "      <td>1.0</td>\n",
       "      <td>2.0</td>\n",
       "      <td>0.0</td>\n",
       "      <td>no</td>\n",
       "      <td>yes</td>\n",
       "      <td>yes</td>\n",
       "      <td>yes</td>\n",
       "      <td>yes</td>\n",
       "      <td>-6.0</td>\n",
       "      <td>yes</td>\n",
       "      <td>yes</td>\n",
       "      <td>no</td>\n",
       "      <td>5.0</td>\n",
       "      <td>4.0</td>\n",
       "      <td>2.0</td>\n",
       "      <td>5.0</td>\n",
       "      <td>10.0</td>\n",
       "      <td>75.0</td>\n",
       "    </tr>\n",
       "    <tr>\n",
       "      <th>6</th>\n",
       "      <td>GP</td>\n",
       "      <td>M</td>\n",
       "      <td>16</td>\n",
       "      <td>NaN</td>\n",
       "      <td>LE3</td>\n",
       "      <td>T</td>\n",
       "      <td>2.0</td>\n",
       "      <td>2.0</td>\n",
       "      <td>other</td>\n",
       "      <td>other</td>\n",
       "      <td>home</td>\n",
       "      <td>mother</td>\n",
       "      <td>1.0</td>\n",
       "      <td>2.0</td>\n",
       "      <td>0.0</td>\n",
       "      <td>no</td>\n",
       "      <td>no</td>\n",
       "      <td>no</td>\n",
       "      <td>no</td>\n",
       "      <td>yes</td>\n",
       "      <td>-6.0</td>\n",
       "      <td>yes</td>\n",
       "      <td>yes</td>\n",
       "      <td>no</td>\n",
       "      <td>4.0</td>\n",
       "      <td>4.0</td>\n",
       "      <td>4.0</td>\n",
       "      <td>3.0</td>\n",
       "      <td>0.0</td>\n",
       "      <td>55.0</td>\n",
       "    </tr>\n",
       "    <tr>\n",
       "      <th>7</th>\n",
       "      <td>GP</td>\n",
       "      <td>F</td>\n",
       "      <td>17</td>\n",
       "      <td>U</td>\n",
       "      <td>GT3</td>\n",
       "      <td>A</td>\n",
       "      <td>4.0</td>\n",
       "      <td>4.0</td>\n",
       "      <td>other</td>\n",
       "      <td>teacher</td>\n",
       "      <td>home</td>\n",
       "      <td>mother</td>\n",
       "      <td>2.0</td>\n",
       "      <td>2.0</td>\n",
       "      <td>0.0</td>\n",
       "      <td>yes</td>\n",
       "      <td>yes</td>\n",
       "      <td>no</td>\n",
       "      <td>no</td>\n",
       "      <td>yes</td>\n",
       "      <td>-6.0</td>\n",
       "      <td>yes</td>\n",
       "      <td>no</td>\n",
       "      <td>no</td>\n",
       "      <td>4.0</td>\n",
       "      <td>1.0</td>\n",
       "      <td>4.0</td>\n",
       "      <td>1.0</td>\n",
       "      <td>6.0</td>\n",
       "      <td>30.0</td>\n",
       "    </tr>\n",
       "    <tr>\n",
       "      <th>8</th>\n",
       "      <td>GP</td>\n",
       "      <td>M</td>\n",
       "      <td>15</td>\n",
       "      <td>U</td>\n",
       "      <td>LE3</td>\n",
       "      <td>A</td>\n",
       "      <td>3.0</td>\n",
       "      <td>2.0</td>\n",
       "      <td>services</td>\n",
       "      <td>other</td>\n",
       "      <td>home</td>\n",
       "      <td>mother</td>\n",
       "      <td>1.0</td>\n",
       "      <td>2.0</td>\n",
       "      <td>0.0</td>\n",
       "      <td>no</td>\n",
       "      <td>yes</td>\n",
       "      <td>yes</td>\n",
       "      <td>no</td>\n",
       "      <td>yes</td>\n",
       "      <td>-6.0</td>\n",
       "      <td>yes</td>\n",
       "      <td>yes</td>\n",
       "      <td>no</td>\n",
       "      <td>NaN</td>\n",
       "      <td>2.0</td>\n",
       "      <td>2.0</td>\n",
       "      <td>1.0</td>\n",
       "      <td>0.0</td>\n",
       "      <td>95.0</td>\n",
       "    </tr>\n",
       "    <tr>\n",
       "      <th>9</th>\n",
       "      <td>GP</td>\n",
       "      <td>M</td>\n",
       "      <td>15</td>\n",
       "      <td>U</td>\n",
       "      <td>NaN</td>\n",
       "      <td>NaN</td>\n",
       "      <td>3.0</td>\n",
       "      <td>4.0</td>\n",
       "      <td>other</td>\n",
       "      <td>other</td>\n",
       "      <td>home</td>\n",
       "      <td>mother</td>\n",
       "      <td>1.0</td>\n",
       "      <td>2.0</td>\n",
       "      <td>0.0</td>\n",
       "      <td>no</td>\n",
       "      <td>yes</td>\n",
       "      <td>yes</td>\n",
       "      <td>yes</td>\n",
       "      <td>yes</td>\n",
       "      <td>-6.0</td>\n",
       "      <td>yes</td>\n",
       "      <td>yes</td>\n",
       "      <td>no</td>\n",
       "      <td>5.0</td>\n",
       "      <td>5.0</td>\n",
       "      <td>1.0</td>\n",
       "      <td>5.0</td>\n",
       "      <td>0.0</td>\n",
       "      <td>75.0</td>\n",
       "    </tr>\n",
       "  </tbody>\n",
       "</table>\n",
       "</div>"
      ],
      "text/plain": [
       "  school sex  age address famsize Pstatus  Medu  Fedu      Mjob     Fjob  \\\n",
       "0     GP   F   18       U     NaN       A   4.0   4.0   at_home  teacher   \n",
       "1     GP   F   17       U     GT3     NaN   1.0   1.0   at_home    other   \n",
       "2     GP   F   15       U     LE3       T   1.0   1.0   at_home    other   \n",
       "3     GP   F   15       U     GT3       T   4.0   2.0    health      NaN   \n",
       "4     GP   F   16       U     GT3       T   3.0   3.0     other    other   \n",
       "5     GP   M   16       U     LE3       T   4.0   3.0  services    other   \n",
       "6     GP   M   16     NaN     LE3       T   2.0   2.0     other    other   \n",
       "7     GP   F   17       U     GT3       A   4.0   4.0     other  teacher   \n",
       "8     GP   M   15       U     LE3       A   3.0   2.0  services    other   \n",
       "9     GP   M   15       U     NaN     NaN   3.0   4.0     other    other   \n",
       "\n",
       "       reason guardian  traveltime  studytime  failures schoolsup famsup paid  \\\n",
       "0      course   mother         2.0        2.0       0.0       yes     no   no   \n",
       "1      course   father         1.0        2.0       0.0        no    yes   no   \n",
       "2       other   mother         1.0        2.0       3.0       yes     no  NaN   \n",
       "3        home   mother         1.0        3.0       0.0        no    yes  yes   \n",
       "4        home   father         1.0        2.0       0.0        no    yes  yes   \n",
       "5  reputation   mother         1.0        2.0       0.0        no    yes  yes   \n",
       "6        home   mother         1.0        2.0       0.0        no     no   no   \n",
       "7        home   mother         2.0        2.0       0.0       yes    yes   no   \n",
       "8        home   mother         1.0        2.0       0.0        no    yes  yes   \n",
       "9        home   mother         1.0        2.0       0.0        no    yes  yes   \n",
       "\n",
       "  activities nursery  studytime_granular higher internet romantic  famrel  \\\n",
       "0         no     yes                -6.0    yes      NaN       no     4.0   \n",
       "1         no      no                -6.0    yes      yes       no     5.0   \n",
       "2         no     yes                -6.0    yes      yes      NaN     4.0   \n",
       "3        yes     yes                -9.0    yes      yes      yes     3.0   \n",
       "4         no     yes                -6.0    yes       no       no     4.0   \n",
       "5        yes     yes                -6.0    yes      yes       no     5.0   \n",
       "6         no     yes                -6.0    yes      yes       no     4.0   \n",
       "7         no     yes                -6.0    yes       no       no     4.0   \n",
       "8         no     yes                -6.0    yes      yes       no     NaN   \n",
       "9        yes     yes                -6.0    yes      yes       no     5.0   \n",
       "\n",
       "   freetime  goout  health  absences  score  \n",
       "0       3.0    4.0     3.0       6.0   30.0  \n",
       "1       3.0    3.0     3.0       4.0   30.0  \n",
       "2       3.0    2.0     3.0      10.0   50.0  \n",
       "3       2.0    2.0     5.0       2.0   75.0  \n",
       "4       3.0    2.0     5.0       4.0   50.0  \n",
       "5       4.0    2.0     5.0      10.0   75.0  \n",
       "6       4.0    4.0     3.0       0.0   55.0  \n",
       "7       1.0    4.0     1.0       6.0   30.0  \n",
       "8       2.0    2.0     1.0       0.0   95.0  \n",
       "9       5.0    1.0     5.0       0.0   75.0  "
      ]
     },
     "metadata": {},
     "output_type": "display_data"
    },
    {
     "name": "stdout",
     "output_type": "stream",
     "text": [
      "<class 'pandas.core.frame.DataFrame'>\n",
      "RangeIndex: 395 entries, 0 to 394\n",
      "Data columns (total 30 columns):\n",
      " #   Column              Non-Null Count  Dtype  \n",
      "---  ------              --------------  -----  \n",
      " 0   school              395 non-null    object \n",
      " 1   sex                 395 non-null    object \n",
      " 2   age                 395 non-null    int64  \n",
      " 3   address             378 non-null    object \n",
      " 4   famsize             368 non-null    object \n",
      " 5   Pstatus             350 non-null    object \n",
      " 6   Medu                392 non-null    float64\n",
      " 7   Fedu                371 non-null    float64\n",
      " 8   Mjob                376 non-null    object \n",
      " 9   Fjob                359 non-null    object \n",
      " 10  reason              378 non-null    object \n",
      " 11  guardian            364 non-null    object \n",
      " 12  traveltime          367 non-null    float64\n",
      " 13  studytime           388 non-null    float64\n",
      " 14  failures            373 non-null    float64\n",
      " 15  schoolsup           386 non-null    object \n",
      " 16  famsup              356 non-null    object \n",
      " 17  paid                355 non-null    object \n",
      " 18  activities          381 non-null    object \n",
      " 19  nursery             379 non-null    object \n",
      " 20  studytime_granular  388 non-null    float64\n",
      " 21  higher              375 non-null    object \n",
      " 22  internet            361 non-null    object \n",
      " 23  romantic            364 non-null    object \n",
      " 24  famrel              368 non-null    float64\n",
      " 25  freetime            384 non-null    float64\n",
      " 26  goout               387 non-null    float64\n",
      " 27  health              380 non-null    float64\n",
      " 28  absences            383 non-null    float64\n",
      " 29  score               389 non-null    float64\n",
      "dtypes: float64(12), int64(1), object(17)\n",
      "memory usage: 92.7+ KB\n"
     ]
    }
   ],
   "source": [
    "pd.set_option('display.max_rows', 50) # показывать больше строк\n",
    "pd.set_option('display.max_columns', 50) # показывать больше колонок\n",
    "\n",
    "df_stud_math = pd.read_csv('C:/Users/Igor/Downloads/stud_math.csv')\n",
    "\n",
    "df_stud_math.columns = ['studytime_granular' if x=='studytime, granular' else x for x in df_stud_math.columns]\n",
    "\n",
    "display(df_stud_math.head(10))\n",
    "df_stud_math.info() "
   ]
  },
  {
   "cell_type": "markdown",
   "id": "753e7daa",
   "metadata": {},
   "source": [
    "# Functions"
   ]
  },
  {
   "cell_type": "code",
   "execution_count": 3,
   "id": "8e465ffa",
   "metadata": {},
   "outputs": [],
   "source": [
    "def number_processing(col_name):\n",
    "    x = df_stud_math[col_name].describe()\n",
    "    df_stud_math[col_name].hist()\n",
    "    return x\n",
    "\n",
    "def col_info(col_name):\n",
    "    display(pd.DataFrame(df_stud_math[col_name].value_counts()))\n",
    "    print(\"Значений, встретившихся в столбце более 10 раз:\", (df_stud_math[col_name].value_counts()>10).sum())\n",
    "    df_stud_math.loc[:, [col_name]].info()\n",
    "\n",
    "def iqr_calculation(col_name):\n",
    "    IQR = df_stud_math[col_name].quantile(0.75) - df_stud_math[col_name].quantile(0.25)\n",
    "    perc25 = df_stud_math[col_name].quantile(0.25)\n",
    "    perc75 = df_stud_math[col_name].quantile(0.75)\n",
    "    print('25-й перцентиль: {},'.format(perc25), '75-й перцентиль: {},'.format(perc75), \"IQR: {}, \".format(IQR), \"Границы выбросов: [{f}, {l}].\".format(f=perc25 - 1.5*IQR, l=perc75 + 1.5*IQR))\n",
    " \n",
    "    df_stud_math[col_name].loc[df_stud_math[col_name].between(perc25 - 1.5*IQR, perc75 + 1.5*IQR)].hist(bins = 10, range = (0, 10), label = 'IQR')\n",
    " \n",
    "    plt.legend()\n",
    "    \n",
    "def string_processing(col_name):\n",
    "    df_stud_math[col_name] = df_stud_math[col_name].astype(str).apply(lambda x: None if x.strip() == '' else x)\n",
    "    display(df_stud_math[col_name].value_counts())"
   ]
  },
  {
   "cell_type": "markdown",
   "id": "2e58075d",
   "metadata": {},
   "source": [
    "# Обработка числовых данных"
   ]
  },
  {
   "cell_type": "markdown",
   "id": "5a032883",
   "metadata": {},
   "source": [
    "## Работа с 'age'"
   ]
  },
  {
   "cell_type": "code",
   "execution_count": 4,
   "id": "73372fb1",
   "metadata": {},
   "outputs": [
    {
     "data": {
      "text/plain": [
       "count    395.000000\n",
       "mean      16.696203\n",
       "std        1.276043\n",
       "min       15.000000\n",
       "25%       16.000000\n",
       "50%       17.000000\n",
       "75%       18.000000\n",
       "max       22.000000\n",
       "Name: age, dtype: float64"
      ]
     },
     "execution_count": 4,
     "metadata": {},
     "output_type": "execute_result"
    },
    {
     "data": {
      "image/png": "[encoded data removed]",
      "text/plain": [
       "<Figure size 432x288 with 1 Axes>"
      ]
     },
     "metadata": {
      "needs_background": "light"
     },
     "output_type": "display_data"
    }
   ],
   "source": [
    "col_name = 'age'\n",
    "number_processing(col_name)"
   ]
  },
  {
   "cell_type": "code",
   "execution_count": 5,
   "id": "0bf271c5",
   "metadata": {},
   "outputs": [
    {
     "data": {
      "text/html": [
       "<div>\n",
       "<style scoped>\n",
       "    .dataframe tbody tr th:only-of-type {\n",
       "        vertical-align: middle;\n",
       "    }\n",
       "\n",
       "    .dataframe tbody tr th {\n",
       "        vertical-align: top;\n",
       "    }\n",
       "\n",
       "    .dataframe thead th {\n",
       "        text-align: right;\n",
       "    }\n",
       "</style>\n",
       "<table border=\"1\" class=\"dataframe\">\n",
       "  <thead>\n",
       "    <tr style=\"text-align: right;\">\n",
       "      <th></th>\n",
       "      <th>age</th>\n",
       "    </tr>\n",
       "  </thead>\n",
       "  <tbody>\n",
       "    <tr>\n",
       "      <th>16</th>\n",
       "      <td>104</td>\n",
       "    </tr>\n",
       "    <tr>\n",
       "      <th>17</th>\n",
       "      <td>98</td>\n",
       "    </tr>\n",
       "    <tr>\n",
       "      <th>15</th>\n",
       "      <td>82</td>\n",
       "    </tr>\n",
       "    <tr>\n",
       "      <th>18</th>\n",
       "      <td>82</td>\n",
       "    </tr>\n",
       "    <tr>\n",
       "      <th>19</th>\n",
       "      <td>24</td>\n",
       "    </tr>\n",
       "    <tr>\n",
       "      <th>20</th>\n",
       "      <td>3</td>\n",
       "    </tr>\n",
       "    <tr>\n",
       "      <th>21</th>\n",
       "      <td>1</td>\n",
       "    </tr>\n",
       "    <tr>\n",
       "      <th>22</th>\n",
       "      <td>1</td>\n",
       "    </tr>\n",
       "  </tbody>\n",
       "</table>\n",
       "</div>"
      ],
      "text/plain": [
       "    age\n",
       "16  104\n",
       "17   98\n",
       "15   82\n",
       "18   82\n",
       "19   24\n",
       "20    3\n",
       "21    1\n",
       "22    1"
      ]
     },
     "metadata": {},
     "output_type": "display_data"
    },
    {
     "name": "stdout",
     "output_type": "stream",
     "text": [
      "Значений, встретившихся в столбце более 10 раз: 5\n",
      "<class 'pandas.core.frame.DataFrame'>\n",
      "RangeIndex: 395 entries, 0 to 394\n",
      "Data columns (total 1 columns):\n",
      " #   Column  Non-Null Count  Dtype\n",
      "---  ------  --------------  -----\n",
      " 0   age     395 non-null    int64\n",
      "dtypes: int64(1)\n",
      "memory usage: 3.2 KB\n"
     ]
    }
   ],
   "source": [
    "col_info(col_name)"
   ]
  },
  {
   "cell_type": "markdown",
   "id": "e7d5d899",
   "metadata": {},
   "source": [
    "## Работа с 'Medu'"
   ]
  },
  {
   "cell_type": "code",
   "execution_count": 6,
   "id": "3b30ed83",
   "metadata": {},
   "outputs": [
    {
     "data": {
      "text/plain": [
       "count    392.000000\n",
       "mean       2.750000\n",
       "std        1.098127\n",
       "min        0.000000\n",
       "25%        2.000000\n",
       "50%        3.000000\n",
       "75%        4.000000\n",
       "max        4.000000\n",
       "Name: Medu, dtype: float64"
      ]
     },
     "execution_count": 6,
     "metadata": {},
     "output_type": "execute_result"
    },
    {
     "data": {
      "image/png": "[encoded data removed]",
      "text/plain": [
       "<Figure size 432x288 with 1 Axes>"
      ]
     },
     "metadata": {
      "needs_background": "light"
     },
     "output_type": "display_data"
    }
   ],
   "source": [
    "col_name = 'Medu'\n",
    "number_processing(col_name)"
   ]
  },
  {
   "cell_type": "code",
   "execution_count": 7,
   "id": "624427cf",
   "metadata": {},
   "outputs": [
    {
     "data": {
      "text/html": [
       "<div>\n",
       "<style scoped>\n",
       "    .dataframe tbody tr th:only-of-type {\n",
       "        vertical-align: middle;\n",
       "    }\n",
       "\n",
       "    .dataframe tbody tr th {\n",
       "        vertical-align: top;\n",
       "    }\n",
       "\n",
       "    .dataframe thead th {\n",
       "        text-align: right;\n",
       "    }\n",
       "</style>\n",
       "<table border=\"1\" class=\"dataframe\">\n",
       "  <thead>\n",
       "    <tr style=\"text-align: right;\">\n",
       "      <th></th>\n",
       "      <th>Medu</th>\n",
       "    </tr>\n",
       "  </thead>\n",
       "  <tbody>\n",
       "    <tr>\n",
       "      <th>4.0</th>\n",
       "      <td>131</td>\n",
       "    </tr>\n",
       "    <tr>\n",
       "      <th>2.0</th>\n",
       "      <td>102</td>\n",
       "    </tr>\n",
       "    <tr>\n",
       "      <th>3.0</th>\n",
       "      <td>97</td>\n",
       "    </tr>\n",
       "    <tr>\n",
       "      <th>1.0</th>\n",
       "      <td>59</td>\n",
       "    </tr>\n",
       "    <tr>\n",
       "      <th>0.0</th>\n",
       "      <td>3</td>\n",
       "    </tr>\n",
       "  </tbody>\n",
       "</table>\n",
       "</div>"
      ],
      "text/plain": [
       "     Medu\n",
       "4.0   131\n",
       "2.0   102\n",
       "3.0    97\n",
       "1.0    59\n",
       "0.0     3"
      ]
     },
     "metadata": {},
     "output_type": "display_data"
    },
    {
     "name": "stdout",
     "output_type": "stream",
     "text": [
      "Значений, встретившихся в столбце более 10 раз: 4\n",
      "<class 'pandas.core.frame.DataFrame'>\n",
      "RangeIndex: 395 entries, 0 to 394\n",
      "Data columns (total 1 columns):\n",
      " #   Column  Non-Null Count  Dtype  \n",
      "---  ------  --------------  -----  \n",
      " 0   Medu    392 non-null    float64\n",
      "dtypes: float64(1)\n",
      "memory usage: 3.2 KB\n"
     ]
    }
   ],
   "source": [
    "col_info(col_name)"
   ]
  },
  {
   "cell_type": "markdown",
   "id": "37827931",
   "metadata": {},
   "source": [
    "## Работа с 'Fedu'"
   ]
  },
  {
   "cell_type": "code",
   "execution_count": 8,
   "id": "7307c06e",
   "metadata": {},
   "outputs": [
    {
     "data": {
      "text/plain": [
       "count    371.000000\n",
       "mean       2.614555\n",
       "std        2.228732\n",
       "min        0.000000\n",
       "25%        2.000000\n",
       "50%        2.000000\n",
       "75%        3.000000\n",
       "max       40.000000\n",
       "Name: Fedu, dtype: float64"
      ]
     },
     "execution_count": 8,
     "metadata": {},
     "output_type": "execute_result"
    },
    {
     "data": {
      "image/png": "[encoded data removed]",
      "text/plain": [
       "<Figure size 432x288 with 1 Axes>"
      ]
     },
     "metadata": {
      "needs_background": "light"
     },
     "output_type": "display_data"
    }
   ],
   "source": [
    "col_name = 'Fedu'\n",
    "number_processing(col_name)"
   ]
  },
  {
   "cell_type": "code",
   "execution_count": 9,
   "id": "366f3771",
   "metadata": {},
   "outputs": [
    {
     "data": {
      "text/plain": [
       "count    370.000000\n",
       "mean       2.513514\n",
       "std        1.087540\n",
       "min        0.000000\n",
       "25%        2.000000\n",
       "50%        2.000000\n",
       "75%        3.000000\n",
       "max        4.000000\n",
       "Name: Fedu, dtype: float64"
      ]
     },
     "execution_count": 9,
     "metadata": {},
     "output_type": "execute_result"
    },
    {
     "data": {
      "image/png": "[encoded data removed]",
      "text/plain": [
       "<Figure size 432x288 with 1 Axes>"
      ]
     },
     "metadata": {
      "needs_background": "light"
     },
     "output_type": "display_data"
    }
   ],
   "source": [
    "df_stud_math = df_stud_math.loc[df_stud_math[col_name] <= 5]\n",
    "number_processing(col_name)"
   ]
  },
  {
   "cell_type": "code",
   "execution_count": 10,
   "id": "dac4f6b5",
   "metadata": {},
   "outputs": [
    {
     "data": {
      "text/html": [
       "<div>\n",
       "<style scoped>\n",
       "    .dataframe tbody tr th:only-of-type {\n",
       "        vertical-align: middle;\n",
       "    }\n",
       "\n",
       "    .dataframe tbody tr th {\n",
       "        vertical-align: top;\n",
       "    }\n",
       "\n",
       "    .dataframe thead th {\n",
       "        text-align: right;\n",
       "    }\n",
       "</style>\n",
       "<table border=\"1\" class=\"dataframe\">\n",
       "  <thead>\n",
       "    <tr style=\"text-align: right;\">\n",
       "      <th></th>\n",
       "      <th>Fedu</th>\n",
       "    </tr>\n",
       "  </thead>\n",
       "  <tbody>\n",
       "    <tr>\n",
       "      <th>2.0</th>\n",
       "      <td>106</td>\n",
       "    </tr>\n",
       "    <tr>\n",
       "      <th>3.0</th>\n",
       "      <td>96</td>\n",
       "    </tr>\n",
       "    <tr>\n",
       "      <th>4.0</th>\n",
       "      <td>88</td>\n",
       "    </tr>\n",
       "    <tr>\n",
       "      <th>1.0</th>\n",
       "      <td>78</td>\n",
       "    </tr>\n",
       "    <tr>\n",
       "      <th>0.0</th>\n",
       "      <td>2</td>\n",
       "    </tr>\n",
       "  </tbody>\n",
       "</table>\n",
       "</div>"
      ],
      "text/plain": [
       "     Fedu\n",
       "2.0   106\n",
       "3.0    96\n",
       "4.0    88\n",
       "1.0    78\n",
       "0.0     2"
      ]
     },
     "metadata": {},
     "output_type": "display_data"
    },
    {
     "name": "stdout",
     "output_type": "stream",
     "text": [
      "Значений, встретившихся в столбце более 10 раз: 4\n",
      "<class 'pandas.core.frame.DataFrame'>\n",
      "Int64Index: 370 entries, 0 to 394\n",
      "Data columns (total 1 columns):\n",
      " #   Column  Non-Null Count  Dtype  \n",
      "---  ------  --------------  -----  \n",
      " 0   Fedu    370 non-null    float64\n",
      "dtypes: float64(1)\n",
      "memory usage: 5.8 KB\n"
     ]
    }
   ],
   "source": [
    "col_info(col_name)"
   ]
  },
  {
   "cell_type": "markdown",
   "id": "d85c2992",
   "metadata": {},
   "source": [
    "## Работа с 'traveltime'"
   ]
  },
  {
   "cell_type": "code",
   "execution_count": 11,
   "id": "3aaad974",
   "metadata": {},
   "outputs": [
    {
     "data": {
      "text/plain": [
       "count    345.000000\n",
       "mean       1.449275\n",
       "std        0.701664\n",
       "min        1.000000\n",
       "25%        1.000000\n",
       "50%        1.000000\n",
       "75%        2.000000\n",
       "max        4.000000\n",
       "Name: traveltime, dtype: float64"
      ]
     },
     "execution_count": 11,
     "metadata": {},
     "output_type": "execute_result"
    },
    {
     "data": {
      "image/png": "[encoded data removed]",
      "text/plain": [
       "<Figure size 432x288 with 1 Axes>"
      ]
     },
     "metadata": {
      "needs_background": "light"
     },
     "output_type": "display_data"
    }
   ],
   "source": [
    "col_name = 'traveltime'\n",
    "number_processing(col_name)"
   ]
  },
  {
   "cell_type": "code",
   "execution_count": 12,
   "id": "6a94745e",
   "metadata": {},
   "outputs": [
    {
     "data": {
      "text/html": [
       "<div>\n",
       "<style scoped>\n",
       "    .dataframe tbody tr th:only-of-type {\n",
       "        vertical-align: middle;\n",
       "    }\n",
       "\n",
       "    .dataframe tbody tr th {\n",
       "        vertical-align: top;\n",
       "    }\n",
       "\n",
       "    .dataframe thead th {\n",
       "        text-align: right;\n",
       "    }\n",
       "</style>\n",
       "<table border=\"1\" class=\"dataframe\">\n",
       "  <thead>\n",
       "    <tr style=\"text-align: right;\">\n",
       "      <th></th>\n",
       "      <th>traveltime</th>\n",
       "    </tr>\n",
       "  </thead>\n",
       "  <tbody>\n",
       "    <tr>\n",
       "      <th>1.0</th>\n",
       "      <td>225</td>\n",
       "    </tr>\n",
       "    <tr>\n",
       "      <th>2.0</th>\n",
       "      <td>92</td>\n",
       "    </tr>\n",
       "    <tr>\n",
       "      <th>3.0</th>\n",
       "      <td>21</td>\n",
       "    </tr>\n",
       "    <tr>\n",
       "      <th>4.0</th>\n",
       "      <td>7</td>\n",
       "    </tr>\n",
       "  </tbody>\n",
       "</table>\n",
       "</div>"
      ],
      "text/plain": [
       "     traveltime\n",
       "1.0         225\n",
       "2.0          92\n",
       "3.0          21\n",
       "4.0           7"
      ]
     },
     "metadata": {},
     "output_type": "display_data"
    },
    {
     "name": "stdout",
     "output_type": "stream",
     "text": [
      "Значений, встретившихся в столбце более 10 раз: 3\n",
      "<class 'pandas.core.frame.DataFrame'>\n",
      "Int64Index: 370 entries, 0 to 394\n",
      "Data columns (total 1 columns):\n",
      " #   Column      Non-Null Count  Dtype  \n",
      "---  ------      --------------  -----  \n",
      " 0   traveltime  345 non-null    float64\n",
      "dtypes: float64(1)\n",
      "memory usage: 5.8 KB\n"
     ]
    }
   ],
   "source": [
    "col_info(col_name)"
   ]
  },
  {
   "cell_type": "markdown",
   "id": "66f1ef4c",
   "metadata": {},
   "source": [
    "## Работа с 'studytime'"
   ]
  },
  {
   "cell_type": "code",
   "execution_count": 13,
   "id": "847cf4b7",
   "metadata": {},
   "outputs": [
    {
     "data": {
      "text/plain": [
       "count    363.000000\n",
       "mean       2.027548\n",
       "std        0.840489\n",
       "min        1.000000\n",
       "25%        1.000000\n",
       "50%        2.000000\n",
       "75%        2.000000\n",
       "max        4.000000\n",
       "Name: studytime, dtype: float64"
      ]
     },
     "execution_count": 13,
     "metadata": {},
     "output_type": "execute_result"
    },
    {
     "data": {
      "image/png": "[encoded data removed]",
      "text/plain": [
       "<Figure size 432x288 with 1 Axes>"
      ]
     },
     "metadata": {
      "needs_background": "light"
     },
     "output_type": "display_data"
    }
   ],
   "source": [
    "col_name = 'studytime'\n",
    "number_processing(col_name)"
   ]
  },
  {
   "cell_type": "code",
   "execution_count": 14,
   "id": "bd4a01cc",
   "metadata": {},
   "outputs": [
    {
     "data": {
      "text/html": [
       "<div>\n",
       "<style scoped>\n",
       "    .dataframe tbody tr th:only-of-type {\n",
       "        vertical-align: middle;\n",
       "    }\n",
       "\n",
       "    .dataframe tbody tr th {\n",
       "        vertical-align: top;\n",
       "    }\n",
       "\n",
       "    .dataframe thead th {\n",
       "        text-align: right;\n",
       "    }\n",
       "</style>\n",
       "<table border=\"1\" class=\"dataframe\">\n",
       "  <thead>\n",
       "    <tr style=\"text-align: right;\">\n",
       "      <th></th>\n",
       "      <th>studytime</th>\n",
       "    </tr>\n",
       "  </thead>\n",
       "  <tbody>\n",
       "    <tr>\n",
       "      <th>2.0</th>\n",
       "      <td>182</td>\n",
       "    </tr>\n",
       "    <tr>\n",
       "      <th>1.0</th>\n",
       "      <td>98</td>\n",
       "    </tr>\n",
       "    <tr>\n",
       "      <th>3.0</th>\n",
       "      <td>58</td>\n",
       "    </tr>\n",
       "    <tr>\n",
       "      <th>4.0</th>\n",
       "      <td>25</td>\n",
       "    </tr>\n",
       "  </tbody>\n",
       "</table>\n",
       "</div>"
      ],
      "text/plain": [
       "     studytime\n",
       "2.0        182\n",
       "1.0         98\n",
       "3.0         58\n",
       "4.0         25"
      ]
     },
     "metadata": {},
     "output_type": "display_data"
    },
    {
     "name": "stdout",
     "output_type": "stream",
     "text": [
      "Значений, встретившихся в столбце более 10 раз: 4\n",
      "<class 'pandas.core.frame.DataFrame'>\n",
      "Int64Index: 370 entries, 0 to 394\n",
      "Data columns (total 1 columns):\n",
      " #   Column     Non-Null Count  Dtype  \n",
      "---  ------     --------------  -----  \n",
      " 0   studytime  363 non-null    float64\n",
      "dtypes: float64(1)\n",
      "memory usage: 5.8 KB\n"
     ]
    }
   ],
   "source": [
    "col_info(col_name)"
   ]
  },
  {
   "cell_type": "markdown",
   "id": "6069b4e0",
   "metadata": {},
   "source": [
    "## Работа с 'failures'"
   ]
  },
  {
   "cell_type": "code",
   "execution_count": 15,
   "id": "a32f44c1",
   "metadata": {},
   "outputs": [
    {
     "data": {
      "text/plain": [
       "count    351.000000\n",
       "mean       0.336182\n",
       "std        0.748962\n",
       "min        0.000000\n",
       "25%        0.000000\n",
       "50%        0.000000\n",
       "75%        0.000000\n",
       "max        3.000000\n",
       "Name: failures, dtype: float64"
      ]
     },
     "execution_count": 15,
     "metadata": {},
     "output_type": "execute_result"
    },
    {
     "data": {
      "image/png": "[encoded data removed]",
      "text/plain": [
       "<Figure size 432x288 with 1 Axes>"
      ]
     },
     "metadata": {
      "needs_background": "light"
     },
     "output_type": "display_data"
    }
   ],
   "source": [
    "col_name = 'failures'\n",
    "number_processing(col_name)"
   ]
  },
  {
   "cell_type": "code",
   "execution_count": 16,
   "id": "390e7655",
   "metadata": {},
   "outputs": [
    {
     "data": {
      "text/html": [
       "<div>\n",
       "<style scoped>\n",
       "    .dataframe tbody tr th:only-of-type {\n",
       "        vertical-align: middle;\n",
       "    }\n",
       "\n",
       "    .dataframe tbody tr th {\n",
       "        vertical-align: top;\n",
       "    }\n",
       "\n",
       "    .dataframe thead th {\n",
       "        text-align: right;\n",
       "    }\n",
       "</style>\n",
       "<table border=\"1\" class=\"dataframe\">\n",
       "  <thead>\n",
       "    <tr style=\"text-align: right;\">\n",
       "      <th></th>\n",
       "      <th>failures</th>\n",
       "    </tr>\n",
       "  </thead>\n",
       "  <tbody>\n",
       "    <tr>\n",
       "      <th>0.0</th>\n",
       "      <td>277</td>\n",
       "    </tr>\n",
       "    <tr>\n",
       "      <th>1.0</th>\n",
       "      <td>45</td>\n",
       "    </tr>\n",
       "    <tr>\n",
       "      <th>3.0</th>\n",
       "      <td>15</td>\n",
       "    </tr>\n",
       "    <tr>\n",
       "      <th>2.0</th>\n",
       "      <td>14</td>\n",
       "    </tr>\n",
       "  </tbody>\n",
       "</table>\n",
       "</div>"
      ],
      "text/plain": [
       "     failures\n",
       "0.0       277\n",
       "1.0        45\n",
       "3.0        15\n",
       "2.0        14"
      ]
     },
     "metadata": {},
     "output_type": "display_data"
    },
    {
     "name": "stdout",
     "output_type": "stream",
     "text": [
      "Значений, встретившихся в столбце более 10 раз: 4\n",
      "<class 'pandas.core.frame.DataFrame'>\n",
      "Int64Index: 370 entries, 0 to 394\n",
      "Data columns (total 1 columns):\n",
      " #   Column    Non-Null Count  Dtype  \n",
      "---  ------    --------------  -----  \n",
      " 0   failures  351 non-null    float64\n",
      "dtypes: float64(1)\n",
      "memory usage: 5.8 KB\n"
     ]
    }
   ],
   "source": [
    "col_info(col_name)"
   ]
  },
  {
   "cell_type": "markdown",
   "id": "23f947d3",
   "metadata": {},
   "source": [
    "## Работа с 'famrel'"
   ]
  },
  {
   "cell_type": "code",
   "execution_count": 17,
   "id": "806ea433",
   "metadata": {},
   "outputs": [
    {
     "data": {
      "text/plain": [
       "count    346.000000\n",
       "mean       3.936416\n",
       "std        0.939629\n",
       "min       -1.000000\n",
       "25%        4.000000\n",
       "50%        4.000000\n",
       "75%        5.000000\n",
       "max        5.000000\n",
       "Name: famrel, dtype: float64"
      ]
     },
     "execution_count": 17,
     "metadata": {},
     "output_type": "execute_result"
    },
    {
     "data": {
      "image/png": "[encoded data removed]",
      "text/plain": [
       "<Figure size 432x288 with 1 Axes>"
      ]
     },
     "metadata": {
      "needs_background": "light"
     },
     "output_type": "display_data"
    }
   ],
   "source": [
    "col_name = 'famrel'\n",
    "number_processing(col_name)"
   ]
  },
  {
   "cell_type": "code",
   "execution_count": 18,
   "id": "c559fe26",
   "metadata": {},
   "outputs": [
    {
     "data": {
      "text/plain": [
       "count    345.000000\n",
       "mean       3.950725\n",
       "std        0.902455\n",
       "min        1.000000\n",
       "25%        4.000000\n",
       "50%        4.000000\n",
       "75%        5.000000\n",
       "max        5.000000\n",
       "Name: famrel, dtype: float64"
      ]
     },
     "execution_count": 18,
     "metadata": {},
     "output_type": "execute_result"
    },
    {
     "data": {
      "image/png": "[encoded data removed]",
      "text/plain": [
       "<Figure size 432x288 with 1 Axes>"
      ]
     },
     "metadata": {
      "needs_background": "light"
     },
     "output_type": "display_data"
    }
   ],
   "source": [
    "df_stud_math = df_stud_math.loc[df_stud_math[col_name] >= 0]\n",
    "number_processing(col_name)"
   ]
  },
  {
   "cell_type": "code",
   "execution_count": 19,
   "id": "6ddb8c3b",
   "metadata": {},
   "outputs": [
    {
     "data": {
      "text/html": [
       "<div>\n",
       "<style scoped>\n",
       "    .dataframe tbody tr th:only-of-type {\n",
       "        vertical-align: middle;\n",
       "    }\n",
       "\n",
       "    .dataframe tbody tr th {\n",
       "        vertical-align: top;\n",
       "    }\n",
       "\n",
       "    .dataframe thead th {\n",
       "        text-align: right;\n",
       "    }\n",
       "</style>\n",
       "<table border=\"1\" class=\"dataframe\">\n",
       "  <thead>\n",
       "    <tr style=\"text-align: right;\">\n",
       "      <th></th>\n",
       "      <th>famrel</th>\n",
       "    </tr>\n",
       "  </thead>\n",
       "  <tbody>\n",
       "    <tr>\n",
       "      <th>4.0</th>\n",
       "      <td>168</td>\n",
       "    </tr>\n",
       "    <tr>\n",
       "      <th>5.0</th>\n",
       "      <td>95</td>\n",
       "    </tr>\n",
       "    <tr>\n",
       "      <th>3.0</th>\n",
       "      <td>59</td>\n",
       "    </tr>\n",
       "    <tr>\n",
       "      <th>2.0</th>\n",
       "      <td>16</td>\n",
       "    </tr>\n",
       "    <tr>\n",
       "      <th>1.0</th>\n",
       "      <td>7</td>\n",
       "    </tr>\n",
       "  </tbody>\n",
       "</table>\n",
       "</div>"
      ],
      "text/plain": [
       "     famrel\n",
       "4.0     168\n",
       "5.0      95\n",
       "3.0      59\n",
       "2.0      16\n",
       "1.0       7"
      ]
     },
     "metadata": {},
     "output_type": "display_data"
    },
    {
     "name": "stdout",
     "output_type": "stream",
     "text": [
      "Значений, встретившихся в столбце более 10 раз: 4\n",
      "<class 'pandas.core.frame.DataFrame'>\n",
      "Int64Index: 345 entries, 0 to 394\n",
      "Data columns (total 1 columns):\n",
      " #   Column  Non-Null Count  Dtype  \n",
      "---  ------  --------------  -----  \n",
      " 0   famrel  345 non-null    float64\n",
      "dtypes: float64(1)\n",
      "memory usage: 5.4 KB\n"
     ]
    }
   ],
   "source": [
    "col_info(col_name)"
   ]
  },
  {
   "cell_type": "markdown",
   "id": "19b3e70a",
   "metadata": {},
   "source": [
    "## Работа с 'freetime'"
   ]
  },
  {
   "cell_type": "code",
   "execution_count": 20,
   "id": "c84cb2d6",
   "metadata": {},
   "outputs": [
    {
     "data": {
      "text/plain": [
       "count    336.000000\n",
       "mean       3.229167\n",
       "std        1.003508\n",
       "min        1.000000\n",
       "25%        3.000000\n",
       "50%        3.000000\n",
       "75%        4.000000\n",
       "max        5.000000\n",
       "Name: freetime, dtype: float64"
      ]
     },
     "execution_count": 20,
     "metadata": {},
     "output_type": "execute_result"
    },
    {
     "data": {
      "image/png": "[encoded data removed]",
      "text/plain": [
       "<Figure size 432x288 with 1 Axes>"
      ]
     },
     "metadata": {
      "needs_background": "light"
     },
     "output_type": "display_data"
    }
   ],
   "source": [
    "col_name = 'freetime'\n",
    "number_processing(col_name)"
   ]
  },
  {
   "cell_type": "code",
   "execution_count": 21,
   "id": "791f2724",
   "metadata": {},
   "outputs": [
    {
     "data": {
      "text/html": [
       "<div>\n",
       "<style scoped>\n",
       "    .dataframe tbody tr th:only-of-type {\n",
       "        vertical-align: middle;\n",
       "    }\n",
       "\n",
       "    .dataframe tbody tr th {\n",
       "        vertical-align: top;\n",
       "    }\n",
       "\n",
       "    .dataframe thead th {\n",
       "        text-align: right;\n",
       "    }\n",
       "</style>\n",
       "<table border=\"1\" class=\"dataframe\">\n",
       "  <thead>\n",
       "    <tr style=\"text-align: right;\">\n",
       "      <th></th>\n",
       "      <th>freetime</th>\n",
       "    </tr>\n",
       "  </thead>\n",
       "  <tbody>\n",
       "    <tr>\n",
       "      <th>3.0</th>\n",
       "      <td>134</td>\n",
       "    </tr>\n",
       "    <tr>\n",
       "      <th>4.0</th>\n",
       "      <td>97</td>\n",
       "    </tr>\n",
       "    <tr>\n",
       "      <th>2.0</th>\n",
       "      <td>54</td>\n",
       "    </tr>\n",
       "    <tr>\n",
       "      <th>5.0</th>\n",
       "      <td>34</td>\n",
       "    </tr>\n",
       "    <tr>\n",
       "      <th>1.0</th>\n",
       "      <td>17</td>\n",
       "    </tr>\n",
       "  </tbody>\n",
       "</table>\n",
       "</div>"
      ],
      "text/plain": [
       "     freetime\n",
       "3.0       134\n",
       "4.0        97\n",
       "2.0        54\n",
       "5.0        34\n",
       "1.0        17"
      ]
     },
     "metadata": {},
     "output_type": "display_data"
    },
    {
     "name": "stdout",
     "output_type": "stream",
     "text": [
      "Значений, встретившихся в столбце более 10 раз: 5\n",
      "<class 'pandas.core.frame.DataFrame'>\n",
      "Int64Index: 345 entries, 0 to 394\n",
      "Data columns (total 1 columns):\n",
      " #   Column    Non-Null Count  Dtype  \n",
      "---  ------    --------------  -----  \n",
      " 0   freetime  336 non-null    float64\n",
      "dtypes: float64(1)\n",
      "memory usage: 5.4 KB\n"
     ]
    }
   ],
   "source": [
    "col_info(col_name)"
   ]
  },
  {
   "cell_type": "markdown",
   "id": "a6c123da",
   "metadata": {},
   "source": [
    "## Работа с 'goout'"
   ]
  },
  {
   "cell_type": "code",
   "execution_count": 22,
   "id": "bf747864",
   "metadata": {},
   "outputs": [
    {
     "data": {
      "text/plain": [
       "count    337.000000\n",
       "mean       3.106825\n",
       "std        1.104852\n",
       "min        1.000000\n",
       "25%        2.000000\n",
       "50%        3.000000\n",
       "75%        4.000000\n",
       "max        5.000000\n",
       "Name: goout, dtype: float64"
      ]
     },
     "execution_count": 22,
     "metadata": {},
     "output_type": "execute_result"
    },
    {
     "data": {
      "image/png": "[encoded data removed]",
      "text/plain": [
       "<Figure size 432x288 with 1 Axes>"
      ]
     },
     "metadata": {
      "needs_background": "light"
     },
     "output_type": "display_data"
    }
   ],
   "source": [
    "col_name = 'goout'\n",
    "number_processing(col_name)"
   ]
  },
  {
   "cell_type": "code",
   "execution_count": 23,
   "id": "bb3c7fb5",
   "metadata": {},
   "outputs": [
    {
     "data": {
      "text/html": [
       "<div>\n",
       "<style scoped>\n",
       "    .dataframe tbody tr th:only-of-type {\n",
       "        vertical-align: middle;\n",
       "    }\n",
       "\n",
       "    .dataframe tbody tr th {\n",
       "        vertical-align: top;\n",
       "    }\n",
       "\n",
       "    .dataframe thead th {\n",
       "        text-align: right;\n",
       "    }\n",
       "</style>\n",
       "<table border=\"1\" class=\"dataframe\">\n",
       "  <thead>\n",
       "    <tr style=\"text-align: right;\">\n",
       "      <th></th>\n",
       "      <th>goout</th>\n",
       "    </tr>\n",
       "  </thead>\n",
       "  <tbody>\n",
       "    <tr>\n",
       "      <th>3.0</th>\n",
       "      <td>115</td>\n",
       "    </tr>\n",
       "    <tr>\n",
       "      <th>2.0</th>\n",
       "      <td>87</td>\n",
       "    </tr>\n",
       "    <tr>\n",
       "      <th>4.0</th>\n",
       "      <td>71</td>\n",
       "    </tr>\n",
       "    <tr>\n",
       "      <th>5.0</th>\n",
       "      <td>45</td>\n",
       "    </tr>\n",
       "    <tr>\n",
       "      <th>1.0</th>\n",
       "      <td>19</td>\n",
       "    </tr>\n",
       "  </tbody>\n",
       "</table>\n",
       "</div>"
      ],
      "text/plain": [
       "     goout\n",
       "3.0    115\n",
       "2.0     87\n",
       "4.0     71\n",
       "5.0     45\n",
       "1.0     19"
      ]
     },
     "metadata": {},
     "output_type": "display_data"
    },
    {
     "name": "stdout",
     "output_type": "stream",
     "text": [
      "Значений, встретившихся в столбце более 10 раз: 5\n",
      "<class 'pandas.core.frame.DataFrame'>\n",
      "Int64Index: 345 entries, 0 to 394\n",
      "Data columns (total 1 columns):\n",
      " #   Column  Non-Null Count  Dtype  \n",
      "---  ------  --------------  -----  \n",
      " 0   goout   337 non-null    float64\n",
      "dtypes: float64(1)\n",
      "memory usage: 5.4 KB\n"
     ]
    }
   ],
   "source": [
    "col_info(col_name)"
   ]
  },
  {
   "cell_type": "markdown",
   "id": "e063e8f0",
   "metadata": {},
   "source": [
    "## Работа с 'health'"
   ]
  },
  {
   "cell_type": "code",
   "execution_count": 24,
   "id": "aa36b20b",
   "metadata": {},
   "outputs": [
    {
     "data": {
      "text/plain": [
       "count    332.000000\n",
       "mean       3.469880\n",
       "std        1.386925\n",
       "min        1.000000\n",
       "25%        3.000000\n",
       "50%        4.000000\n",
       "75%        5.000000\n",
       "max        5.000000\n",
       "Name: health, dtype: float64"
      ]
     },
     "execution_count": 24,
     "metadata": {},
     "output_type": "execute_result"
    },
    {
     "data": {
      "image/png": "[encoded data removed]",
      "text/plain": [
       "<Figure size 432x288 with 1 Axes>"
      ]
     },
     "metadata": {
      "needs_background": "light"
     },
     "output_type": "display_data"
    }
   ],
   "source": [
    "col_name = 'health'\n",
    "number_processing(col_name)"
   ]
  },
  {
   "cell_type": "code",
   "execution_count": 25,
   "id": "fe47518c",
   "metadata": {},
   "outputs": [
    {
     "data": {
      "text/html": [
       "<div>\n",
       "<style scoped>\n",
       "    .dataframe tbody tr th:only-of-type {\n",
       "        vertical-align: middle;\n",
       "    }\n",
       "\n",
       "    .dataframe tbody tr th {\n",
       "        vertical-align: top;\n",
       "    }\n",
       "\n",
       "    .dataframe thead th {\n",
       "        text-align: right;\n",
       "    }\n",
       "</style>\n",
       "<table border=\"1\" class=\"dataframe\">\n",
       "  <thead>\n",
       "    <tr style=\"text-align: right;\">\n",
       "      <th></th>\n",
       "      <th>health</th>\n",
       "    </tr>\n",
       "  </thead>\n",
       "  <tbody>\n",
       "    <tr>\n",
       "      <th>5.0</th>\n",
       "      <td>111</td>\n",
       "    </tr>\n",
       "    <tr>\n",
       "      <th>3.0</th>\n",
       "      <td>81</td>\n",
       "    </tr>\n",
       "    <tr>\n",
       "      <th>4.0</th>\n",
       "      <td>58</td>\n",
       "    </tr>\n",
       "    <tr>\n",
       "      <th>1.0</th>\n",
       "      <td>42</td>\n",
       "    </tr>\n",
       "    <tr>\n",
       "      <th>2.0</th>\n",
       "      <td>40</td>\n",
       "    </tr>\n",
       "  </tbody>\n",
       "</table>\n",
       "</div>"
      ],
      "text/plain": [
       "     health\n",
       "5.0     111\n",
       "3.0      81\n",
       "4.0      58\n",
       "1.0      42\n",
       "2.0      40"
      ]
     },
     "metadata": {},
     "output_type": "display_data"
    },
    {
     "name": "stdout",
     "output_type": "stream",
     "text": [
      "Значений, встретившихся в столбце более 10 раз: 5\n",
      "<class 'pandas.core.frame.DataFrame'>\n",
      "Int64Index: 345 entries, 0 to 394\n",
      "Data columns (total 1 columns):\n",
      " #   Column  Non-Null Count  Dtype  \n",
      "---  ------  --------------  -----  \n",
      " 0   health  332 non-null    float64\n",
      "dtypes: float64(1)\n",
      "memory usage: 5.4 KB\n"
     ]
    }
   ],
   "source": [
    "col_info(col_name)"
   ]
  },
  {
   "cell_type": "markdown",
   "id": "d29cb17a",
   "metadata": {},
   "source": [
    "## Работа с 'absences'"
   ]
  },
  {
   "cell_type": "code",
   "execution_count": 26,
   "id": "68ab4867",
   "metadata": {},
   "outputs": [
    {
     "data": {
      "text/plain": [
       "count    333.000000\n",
       "mean       7.315315\n",
       "std       24.755302\n",
       "min        0.000000\n",
       "25%        0.000000\n",
       "50%        4.000000\n",
       "75%        8.000000\n",
       "max      385.000000\n",
       "Name: absences, dtype: float64"
      ]
     },
     "execution_count": 26,
     "metadata": {},
     "output_type": "execute_result"
    },
    {
     "data": {
      "image/png": "[encoded data removed]",
      "text/plain": [
       "<Figure size 432x288 with 1 Axes>"
      ]
     },
     "metadata": {
      "needs_background": "light"
     },
     "output_type": "display_data"
    }
   ],
   "source": [
    "col_name = 'absences'\n",
    "number_processing(col_name)"
   ]
  },
  {
   "cell_type": "code",
   "execution_count": 27,
   "id": "0fd872f3",
   "metadata": {},
   "outputs": [
    {
     "name": "stdout",
     "output_type": "stream",
     "text": [
      "25-й перцентиль: 0.0, 75-й перцентиль: 8.0, IQR: 8.0,  Границы выбросов: [-12.0, 20.0].\n"
     ]
    },
    {
     "data": {
      "image/png": "[encoded data removed]",
      "text/plain": [
       "<Figure size 432x288 with 1 Axes>"
      ]
     },
     "metadata": {
      "needs_background": "light"
     },
     "output_type": "display_data"
    }
   ],
   "source": [
    "iqr_calculation(col_name)"
   ]
  },
  {
   "cell_type": "markdown",
   "id": "f65b9e32",
   "metadata": {},
   "source": [
    "## Работа с 'score'"
   ]
  },
  {
   "cell_type": "code",
   "execution_count": 28,
   "id": "dfd3823f",
   "metadata": {},
   "outputs": [
    {
     "data": {
      "text/plain": [
       "count    339.000000\n",
       "mean      52.477876\n",
       "std       22.556214\n",
       "min        0.000000\n",
       "25%       42.500000\n",
       "50%       55.000000\n",
       "75%       70.000000\n",
       "max      100.000000\n",
       "Name: score, dtype: float64"
      ]
     },
     "execution_count": 28,
     "metadata": {},
     "output_type": "execute_result"
    },
    {
     "data": {
      "image/png": "[encoded data removed]",
      "text/plain": [
       "<Figure size 432x288 with 1 Axes>"
      ]
     },
     "metadata": {
      "needs_background": "light"
     },
     "output_type": "display_data"
    }
   ],
   "source": [
    "col_name = 'score'\n",
    "number_processing(col_name)"
   ]
  },
  {
   "cell_type": "markdown",
   "id": "a53e64ae",
   "metadata": {},
   "source": [
    "# Обработка текстовых данных"
   ]
  },
  {
   "cell_type": "code",
   "execution_count": 29,
   "id": "6d3f62c4",
   "metadata": {},
   "outputs": [
    {
     "name": "stdout",
     "output_type": "stream",
     "text": [
      "<class 'pandas.core.frame.DataFrame'>\n",
      "Int64Index: 345 entries, 0 to 394\n",
      "Data columns (total 30 columns):\n",
      " #   Column              Non-Null Count  Dtype  \n",
      "---  ------              --------------  -----  \n",
      " 0   school              345 non-null    object \n",
      " 1   sex                 345 non-null    object \n",
      " 2   age                 345 non-null    int64  \n",
      " 3   address             331 non-null    object \n",
      " 4   famsize             321 non-null    object \n",
      " 5   Pstatus             303 non-null    object \n",
      " 6   Medu                342 non-null    float64\n",
      " 7   Fedu                345 non-null    float64\n",
      " 8   Mjob                327 non-null    object \n",
      " 9   Fjob                316 non-null    object \n",
      " 10  reason              331 non-null    object \n",
      " 11  guardian            316 non-null    object \n",
      " 12  traveltime          322 non-null    float64\n",
      " 13  studytime           338 non-null    float64\n",
      " 14  failures            326 non-null    float64\n",
      " 15  schoolsup           336 non-null    object \n",
      " 16  famsup              311 non-null    object \n",
      " 17  paid                310 non-null    object \n",
      " 18  activities          333 non-null    object \n",
      " 19  nursery             329 non-null    object \n",
      " 20  studytime_granular  338 non-null    float64\n",
      " 21  higher              328 non-null    object \n",
      " 22  internet            314 non-null    object \n",
      " 23  romantic            319 non-null    object \n",
      " 24  famrel              345 non-null    float64\n",
      " 25  freetime            336 non-null    float64\n",
      " 26  goout               337 non-null    float64\n",
      " 27  health              332 non-null    float64\n",
      " 28  absences            333 non-null    float64\n",
      " 29  score               339 non-null    float64\n",
      "dtypes: float64(12), int64(1), object(17)\n",
      "memory usage: 83.6+ KB\n"
     ]
    }
   ],
   "source": [
    "df_stud_math.info() "
   ]
  },
  {
   "cell_type": "markdown",
   "id": "3b4dc876",
   "metadata": {},
   "source": [
    "## Работа с 'school' "
   ]
  },
  {
   "cell_type": "code",
   "execution_count": 30,
   "id": "5a321751",
   "metadata": {},
   "outputs": [
    {
     "data": {
      "text/plain": [
       "GP    304\n",
       "MS     41\n",
       "Name: school, dtype: int64"
      ]
     },
     "metadata": {},
     "output_type": "display_data"
    }
   ],
   "source": [
    "col_name = 'school'\n",
    "string_processing(col_name)"
   ]
  },
  {
   "cell_type": "markdown",
   "id": "afaef1de",
   "metadata": {},
   "source": [
    "## Работа с 'sex' "
   ]
  },
  {
   "cell_type": "code",
   "execution_count": 31,
   "id": "feadec1d",
   "metadata": {},
   "outputs": [
    {
     "data": {
      "text/plain": [
       "F    184\n",
       "M    161\n",
       "Name: sex, dtype: int64"
      ]
     },
     "metadata": {},
     "output_type": "display_data"
    }
   ],
   "source": [
    "col_name = 'sex'\n",
    "string_processing(col_name)"
   ]
  },
  {
   "cell_type": "markdown",
   "id": "90a1be38",
   "metadata": {},
   "source": [
    "## Работа с 'address' "
   ]
  },
  {
   "cell_type": "code",
   "execution_count": 32,
   "id": "a5759cd6",
   "metadata": {},
   "outputs": [
    {
     "data": {
      "text/plain": [
       "U      258\n",
       "R       73\n",
       "nan     14\n",
       "Name: address, dtype: int64"
      ]
     },
     "metadata": {},
     "output_type": "display_data"
    }
   ],
   "source": [
    "col_name = 'address'\n",
    "string_processing(col_name)"
   ]
  },
  {
   "cell_type": "markdown",
   "id": "f5a3b9e9",
   "metadata": {},
   "source": [
    "## Работа с 'famsize'"
   ]
  },
  {
   "cell_type": "code",
   "execution_count": 33,
   "id": "a21e4f95",
   "metadata": {},
   "outputs": [
    {
     "data": {
      "text/plain": [
       "GT3    227\n",
       "LE3     94\n",
       "nan     24\n",
       "Name: famsize, dtype: int64"
      ]
     },
     "metadata": {},
     "output_type": "display_data"
    }
   ],
   "source": [
    "col_name = 'famsize'\n",
    "string_processing(col_name)"
   ]
  },
  {
   "cell_type": "markdown",
   "id": "708c4209",
   "metadata": {},
   "source": [
    "##  Работа с 'Pstatus'"
   ]
  },
  {
   "cell_type": "code",
   "execution_count": 34,
   "id": "e415d9f2",
   "metadata": {},
   "outputs": [
    {
     "data": {
      "text/plain": [
       "T      275\n",
       "nan     42\n",
       "A       28\n",
       "Name: Pstatus, dtype: int64"
      ]
     },
     "metadata": {},
     "output_type": "display_data"
    }
   ],
   "source": [
    "col_name = 'Pstatus'\n",
    "string_processing(col_name)"
   ]
  },
  {
   "cell_type": "markdown",
   "id": "973ad48d",
   "metadata": {},
   "source": [
    "## Работа с 'Mjob' "
   ]
  },
  {
   "cell_type": "code",
   "execution_count": 35,
   "id": "99331130",
   "metadata": {},
   "outputs": [
    {
     "data": {
      "text/plain": [
       "other       118\n",
       "services     82\n",
       "at_home      53\n",
       "teacher      45\n",
       "health       29\n",
       "nan          18\n",
       "Name: Mjob, dtype: int64"
      ]
     },
     "metadata": {},
     "output_type": "display_data"
    }
   ],
   "source": [
    "col_name = 'Mjob'\n",
    "string_processing(col_name)"
   ]
  },
  {
   "cell_type": "markdown",
   "id": "cb558a04",
   "metadata": {},
   "source": [
    "## Работа с 'Fjob' "
   ]
  },
  {
   "cell_type": "code",
   "execution_count": 36,
   "id": "f91b4943",
   "metadata": {},
   "outputs": [
    {
     "data": {
      "text/plain": [
       "other       177\n",
       "services     88\n",
       "nan          29\n",
       "teacher      26\n",
       "at_home      14\n",
       "health       11\n",
       "Name: Fjob, dtype: int64"
      ]
     },
     "metadata": {},
     "output_type": "display_data"
    }
   ],
   "source": [
    "col_name = 'Fjob'\n",
    "string_processing(col_name)"
   ]
  },
  {
   "cell_type": "markdown",
   "id": "05b57022",
   "metadata": {},
   "source": [
    "## Работа с 'reason' "
   ]
  },
  {
   "cell_type": "code",
   "execution_count": 37,
   "id": "b56c7de5",
   "metadata": {},
   "outputs": [
    {
     "data": {
      "text/plain": [
       "course        116\n",
       "reputation     93\n",
       "home           90\n",
       "other          32\n",
       "nan            14\n",
       "Name: reason, dtype: int64"
      ]
     },
     "metadata": {},
     "output_type": "display_data"
    }
   ],
   "source": [
    "col_name = 'reason'\n",
    "string_processing(col_name)"
   ]
  },
  {
   "cell_type": "markdown",
   "id": "e7438afc",
   "metadata": {},
   "source": [
    "## Работа с 'guardian' "
   ]
  },
  {
   "cell_type": "code",
   "execution_count": 38,
   "id": "598f5392",
   "metadata": {},
   "outputs": [
    {
     "data": {
      "text/plain": [
       "mother    219\n",
       "father     72\n",
       "nan        29\n",
       "other      25\n",
       "Name: guardian, dtype: int64"
      ]
     },
     "metadata": {},
     "output_type": "display_data"
    }
   ],
   "source": [
    "col_name = 'guardian'\n",
    "string_processing(col_name)"
   ]
  },
  {
   "cell_type": "markdown",
   "id": "299a10a2",
   "metadata": {},
   "source": [
    "## Работа с 'schoolsup' "
   ]
  },
  {
   "cell_type": "code",
   "execution_count": 39,
   "id": "c34f342e",
   "metadata": {},
   "outputs": [
    {
     "data": {
      "text/plain": [
       "no     292\n",
       "yes     44\n",
       "nan      9\n",
       "Name: schoolsup, dtype: int64"
      ]
     },
     "metadata": {},
     "output_type": "display_data"
    }
   ],
   "source": [
    "col_name = 'schoolsup'\n",
    "string_processing(col_name)"
   ]
  },
  {
   "cell_type": "markdown",
   "id": "fa207aab",
   "metadata": {},
   "source": [
    "## Работа с 'famsup' "
   ]
  },
  {
   "cell_type": "code",
   "execution_count": 40,
   "id": "ee7af21e",
   "metadata": {},
   "outputs": [
    {
     "data": {
      "text/plain": [
       "yes    187\n",
       "no     124\n",
       "nan     34\n",
       "Name: famsup, dtype: int64"
      ]
     },
     "metadata": {},
     "output_type": "display_data"
    }
   ],
   "source": [
    "col_name = 'famsup'\n",
    "string_processing(col_name)"
   ]
  },
  {
   "cell_type": "markdown",
   "id": "668015ce",
   "metadata": {},
   "source": [
    "## Работа с 'paid' "
   ]
  },
  {
   "cell_type": "code",
   "execution_count": 41,
   "id": "99f08cb3",
   "metadata": {},
   "outputs": [
    {
     "data": {
      "text/plain": [
       "no     174\n",
       "yes    136\n",
       "nan     35\n",
       "Name: paid, dtype: int64"
      ]
     },
     "metadata": {},
     "output_type": "display_data"
    }
   ],
   "source": [
    "col_name = 'paid'\n",
    "string_processing(col_name)"
   ]
  },
  {
   "cell_type": "markdown",
   "id": "8fbebfa3",
   "metadata": {},
   "source": [
    "## Работа с 'activities' "
   ]
  },
  {
   "cell_type": "code",
   "execution_count": 42,
   "id": "b36250a4",
   "metadata": {},
   "outputs": [
    {
     "data": {
      "text/plain": [
       "yes    169\n",
       "no     164\n",
       "nan     12\n",
       "Name: activities, dtype: int64"
      ]
     },
     "metadata": {},
     "output_type": "display_data"
    }
   ],
   "source": [
    "col_name = 'activities'\n",
    "string_processing(col_name)"
   ]
  },
  {
   "cell_type": "markdown",
   "id": "a218b64c",
   "metadata": {},
   "source": [
    "## Работа с 'nursery' "
   ]
  },
  {
   "cell_type": "code",
   "execution_count": 43,
   "id": "cbb83f19",
   "metadata": {},
   "outputs": [
    {
     "data": {
      "text/plain": [
       "yes    260\n",
       "no      69\n",
       "nan     16\n",
       "Name: nursery, dtype: int64"
      ]
     },
     "metadata": {},
     "output_type": "display_data"
    }
   ],
   "source": [
    "col_name = 'nursery'\n",
    "string_processing(col_name)"
   ]
  },
  {
   "cell_type": "markdown",
   "id": "5a3f4918",
   "metadata": {},
   "source": [
    "## Работа с 'higher' "
   ]
  },
  {
   "cell_type": "code",
   "execution_count": 44,
   "id": "4c94988e",
   "metadata": {},
   "outputs": [
    {
     "data": {
      "text/plain": [
       "yes    311\n",
       "no      17\n",
       "nan     17\n",
       "Name: higher, dtype: int64"
      ]
     },
     "metadata": {},
     "output_type": "display_data"
    }
   ],
   "source": [
    "col_name = 'higher'\n",
    "string_processing(col_name)"
   ]
  },
  {
   "cell_type": "markdown",
   "id": "a7db6f08",
   "metadata": {},
   "source": [
    "## Работа с 'internet' "
   ]
  },
  {
   "cell_type": "code",
   "execution_count": 45,
   "id": "ef5165b3",
   "metadata": {},
   "outputs": [
    {
     "data": {
      "text/plain": [
       "yes    264\n",
       "no      50\n",
       "nan     31\n",
       "Name: internet, dtype: int64"
      ]
     },
     "metadata": {},
     "output_type": "display_data"
    }
   ],
   "source": [
    "col_name = 'internet'\n",
    "string_processing(col_name)"
   ]
  },
  {
   "cell_type": "markdown",
   "id": "aec2ce24",
   "metadata": {},
   "source": [
    "## Работа с 'romantic' "
   ]
  },
  {
   "cell_type": "code",
   "execution_count": 46,
   "id": "bc451447",
   "metadata": {},
   "outputs": [
    {
     "data": {
      "text/plain": [
       "no     213\n",
       "yes    106\n",
       "nan     26\n",
       "Name: romantic, dtype: int64"
      ]
     },
     "metadata": {},
     "output_type": "display_data"
    }
   ],
   "source": [
    "col_name = 'romantic'\n",
    "string_processing(col_name)"
   ]
  },
  {
   "cell_type": "markdown",
   "id": "0eda0147",
   "metadata": {},
   "source": [
    "# Корреляционный анализ"
   ]
  },
  {
   "cell_type": "code",
   "execution_count": 47,
   "id": "f3fba5bd",
   "metadata": {},
   "outputs": [
    {
     "data": {
      "text/plain": [
       "<seaborn.axisgrid.PairGrid at 0x1cd32204d00>"
      ]
     },
     "execution_count": 47,
     "metadata": {},
     "output_type": "execute_result"
    },
    {
     "data": {
      "image/png": "[encoded data removed]",
      "text/plain": [
       "<Figure size 2340x2340 with 182 Axes>"
      ]
     },
     "metadata": {
      "needs_background": "light"
     },
     "output_type": "display_data"
    }
   ],
   "source": [
    "sns.pairplot(df_stud_math, kind = 'reg')"
   ]
  },
  {
   "cell_type": "code",
   "execution_count": 48,
   "id": "3383e03d",
   "metadata": {},
   "outputs": [
    {
     "data": {
      "text/html": [
       "<div>\n",
       "<style scoped>\n",
       "    .dataframe tbody tr th:only-of-type {\n",
       "        vertical-align: middle;\n",
       "    }\n",
       "\n",
       "    .dataframe tbody tr th {\n",
       "        vertical-align: top;\n",
       "    }\n",
       "\n",
       "    .dataframe thead th {\n",
       "        text-align: right;\n",
       "    }\n",
       "</style>\n",
       "<table border=\"1\" class=\"dataframe\">\n",
       "  <thead>\n",
       "    <tr style=\"text-align: right;\">\n",
       "      <th></th>\n",
       "      <th>age</th>\n",
       "      <th>Medu</th>\n",
       "      <th>Fedu</th>\n",
       "      <th>traveltime</th>\n",
       "      <th>studytime</th>\n",
       "      <th>failures</th>\n",
       "      <th>studytime_granular</th>\n",
       "      <th>famrel</th>\n",
       "      <th>freetime</th>\n",
       "      <th>goout</th>\n",
       "      <th>health</th>\n",
       "      <th>absences</th>\n",
       "      <th>score</th>\n",
       "    </tr>\n",
       "  </thead>\n",
       "  <tbody>\n",
       "    <tr>\n",
       "      <th>age</th>\n",
       "      <td>1.000000</td>\n",
       "      <td>-0.155335</td>\n",
       "      <td>-0.168980</td>\n",
       "      <td>0.066752</td>\n",
       "      <td>-0.033474</td>\n",
       "      <td>0.255513</td>\n",
       "      <td>0.033474</td>\n",
       "      <td>0.063349</td>\n",
       "      <td>0.021524</td>\n",
       "      <td>0.107076</td>\n",
       "      <td>-0.062275</td>\n",
       "      <td>0.082868</td>\n",
       "      <td>-0.148832</td>\n",
       "    </tr>\n",
       "    <tr>\n",
       "      <th>Medu</th>\n",
       "      <td>-0.155335</td>\n",
       "      <td>1.000000</td>\n",
       "      <td>0.642674</td>\n",
       "      <td>-0.166971</td>\n",
       "      <td>0.092661</td>\n",
       "      <td>-0.237919</td>\n",
       "      <td>-0.092661</td>\n",
       "      <td>-0.024829</td>\n",
       "      <td>0.007366</td>\n",
       "      <td>0.072158</td>\n",
       "      <td>-0.073154</td>\n",
       "      <td>-0.012594</td>\n",
       "      <td>0.205382</td>\n",
       "    </tr>\n",
       "    <tr>\n",
       "      <th>Fedu</th>\n",
       "      <td>-0.168980</td>\n",
       "      <td>0.642674</td>\n",
       "      <td>1.000000</td>\n",
       "      <td>-0.189226</td>\n",
       "      <td>0.012119</td>\n",
       "      <td>-0.264906</td>\n",
       "      <td>-0.012119</td>\n",
       "      <td>-0.035788</td>\n",
       "      <td>-0.027291</td>\n",
       "      <td>0.024714</td>\n",
       "      <td>0.010998</td>\n",
       "      <td>0.030154</td>\n",
       "      <td>0.132420</td>\n",
       "    </tr>\n",
       "    <tr>\n",
       "      <th>traveltime</th>\n",
       "      <td>0.066752</td>\n",
       "      <td>-0.166971</td>\n",
       "      <td>-0.189226</td>\n",
       "      <td>1.000000</td>\n",
       "      <td>-0.115118</td>\n",
       "      <td>0.061574</td>\n",
       "      <td>0.115118</td>\n",
       "      <td>-0.045855</td>\n",
       "      <td>-0.000118</td>\n",
       "      <td>0.015826</td>\n",
       "      <td>-0.034275</td>\n",
       "      <td>-0.064070</td>\n",
       "      <td>-0.062583</td>\n",
       "    </tr>\n",
       "    <tr>\n",
       "      <th>studytime</th>\n",
       "      <td>-0.033474</td>\n",
       "      <td>0.092661</td>\n",
       "      <td>0.012119</td>\n",
       "      <td>-0.115118</td>\n",
       "      <td>1.000000</td>\n",
       "      <td>-0.150694</td>\n",
       "      <td>-1.000000</td>\n",
       "      <td>0.029336</td>\n",
       "      <td>-0.126143</td>\n",
       "      <td>-0.064398</td>\n",
       "      <td>-0.086337</td>\n",
       "      <td>-0.019209</td>\n",
       "      <td>0.120601</td>\n",
       "    </tr>\n",
       "    <tr>\n",
       "      <th>failures</th>\n",
       "      <td>0.255513</td>\n",
       "      <td>-0.237919</td>\n",
       "      <td>-0.264906</td>\n",
       "      <td>0.061574</td>\n",
       "      <td>-0.150694</td>\n",
       "      <td>1.000000</td>\n",
       "      <td>0.150694</td>\n",
       "      <td>0.009199</td>\n",
       "      <td>0.113254</td>\n",
       "      <td>0.123837</td>\n",
       "      <td>0.067665</td>\n",
       "      <td>0.059654</td>\n",
       "      <td>-0.331450</td>\n",
       "    </tr>\n",
       "    <tr>\n",
       "      <th>studytime_granular</th>\n",
       "      <td>0.033474</td>\n",
       "      <td>-0.092661</td>\n",
       "      <td>-0.012119</td>\n",
       "      <td>0.115118</td>\n",
       "      <td>-1.000000</td>\n",
       "      <td>0.150694</td>\n",
       "      <td>1.000000</td>\n",
       "      <td>-0.029336</td>\n",
       "      <td>0.126143</td>\n",
       "      <td>0.064398</td>\n",
       "      <td>0.086337</td>\n",
       "      <td>0.019209</td>\n",
       "      <td>-0.120601</td>\n",
       "    </tr>\n",
       "    <tr>\n",
       "      <th>famrel</th>\n",
       "      <td>0.063349</td>\n",
       "      <td>-0.024829</td>\n",
       "      <td>-0.035788</td>\n",
       "      <td>-0.045855</td>\n",
       "      <td>0.029336</td>\n",
       "      <td>0.009199</td>\n",
       "      <td>-0.029336</td>\n",
       "      <td>1.000000</td>\n",
       "      <td>0.167233</td>\n",
       "      <td>0.075583</td>\n",
       "      <td>0.101361</td>\n",
       "      <td>-0.080793</td>\n",
       "      <td>0.040078</td>\n",
       "    </tr>\n",
       "    <tr>\n",
       "      <th>freetime</th>\n",
       "      <td>0.021524</td>\n",
       "      <td>0.007366</td>\n",
       "      <td>-0.027291</td>\n",
       "      <td>-0.000118</td>\n",
       "      <td>-0.126143</td>\n",
       "      <td>0.113254</td>\n",
       "      <td>0.126143</td>\n",
       "      <td>0.167233</td>\n",
       "      <td>1.000000</td>\n",
       "      <td>0.283055</td>\n",
       "      <td>0.104436</td>\n",
       "      <td>0.028040</td>\n",
       "      <td>0.021726</td>\n",
       "    </tr>\n",
       "    <tr>\n",
       "      <th>goout</th>\n",
       "      <td>0.107076</td>\n",
       "      <td>0.072158</td>\n",
       "      <td>0.024714</td>\n",
       "      <td>0.015826</td>\n",
       "      <td>-0.064398</td>\n",
       "      <td>0.123837</td>\n",
       "      <td>0.064398</td>\n",
       "      <td>0.075583</td>\n",
       "      <td>0.283055</td>\n",
       "      <td>1.000000</td>\n",
       "      <td>-0.023786</td>\n",
       "      <td>-0.052891</td>\n",
       "      <td>-0.137584</td>\n",
       "    </tr>\n",
       "    <tr>\n",
       "      <th>health</th>\n",
       "      <td>-0.062275</td>\n",
       "      <td>-0.073154</td>\n",
       "      <td>0.010998</td>\n",
       "      <td>-0.034275</td>\n",
       "      <td>-0.086337</td>\n",
       "      <td>0.067665</td>\n",
       "      <td>0.086337</td>\n",
       "      <td>0.101361</td>\n",
       "      <td>0.104436</td>\n",
       "      <td>-0.023786</td>\n",
       "      <td>1.000000</td>\n",
       "      <td>-0.022635</td>\n",
       "      <td>-0.059363</td>\n",
       "    </tr>\n",
       "    <tr>\n",
       "      <th>absences</th>\n",
       "      <td>0.082868</td>\n",
       "      <td>-0.012594</td>\n",
       "      <td>0.030154</td>\n",
       "      <td>-0.064070</td>\n",
       "      <td>-0.019209</td>\n",
       "      <td>0.059654</td>\n",
       "      <td>0.019209</td>\n",
       "      <td>-0.080793</td>\n",
       "      <td>0.028040</td>\n",
       "      <td>-0.052891</td>\n",
       "      <td>-0.022635</td>\n",
       "      <td>1.000000</td>\n",
       "      <td>0.077729</td>\n",
       "    </tr>\n",
       "    <tr>\n",
       "      <th>score</th>\n",
       "      <td>-0.148832</td>\n",
       "      <td>0.205382</td>\n",
       "      <td>0.132420</td>\n",
       "      <td>-0.062583</td>\n",
       "      <td>0.120601</td>\n",
       "      <td>-0.331450</td>\n",
       "      <td>-0.120601</td>\n",
       "      <td>0.040078</td>\n",
       "      <td>0.021726</td>\n",
       "      <td>-0.137584</td>\n",
       "      <td>-0.059363</td>\n",
       "      <td>0.077729</td>\n",
       "      <td>1.000000</td>\n",
       "    </tr>\n",
       "  </tbody>\n",
       "</table>\n",
       "</div>"
      ],
      "text/plain": [
       "                         age      Medu      Fedu  traveltime  studytime  \\\n",
       "age                 1.000000 -0.155335 -0.168980    0.066752  -0.033474   \n",
       "Medu               -0.155335  1.000000  0.642674   -0.166971   0.092661   \n",
       "Fedu               -0.168980  0.642674  1.000000   -0.189226   0.012119   \n",
       "traveltime          0.066752 -0.166971 -0.189226    1.000000  -0.115118   \n",
       "studytime          -0.033474  0.092661  0.012119   -0.115118   1.000000   \n",
       "failures            0.255513 -0.237919 -0.264906    0.061574  -0.150694   \n",
       "studytime_granular  0.033474 -0.092661 -0.012119    0.115118  -1.000000   \n",
       "famrel              0.063349 -0.024829 -0.035788   -0.045855   0.029336   \n",
       "freetime            0.021524  0.007366 -0.027291   -0.000118  -0.126143   \n",
       "goout               0.107076  0.072158  0.024714    0.015826  -0.064398   \n",
       "health             -0.062275 -0.073154  0.010998   -0.034275  -0.086337   \n",
       "absences            0.082868 -0.012594  0.030154   -0.064070  -0.019209   \n",
       "score              -0.148832  0.205382  0.132420   -0.062583   0.120601   \n",
       "\n",
       "                    failures  studytime_granular    famrel  freetime  \\\n",
       "age                 0.255513            0.033474  0.063349  0.021524   \n",
       "Medu               -0.237919           -0.092661 -0.024829  0.007366   \n",
       "Fedu               -0.264906           -0.012119 -0.035788 -0.027291   \n",
       "traveltime          0.061574            0.115118 -0.045855 -0.000118   \n",
       "studytime          -0.150694           -1.000000  0.029336 -0.126143   \n",
       "failures            1.000000            0.150694  0.009199  0.113254   \n",
       "studytime_granular  0.150694            1.000000 -0.029336  0.126143   \n",
       "famrel              0.009199           -0.029336  1.000000  0.167233   \n",
       "freetime            0.113254            0.126143  0.167233  1.000000   \n",
       "goout               0.123837            0.064398  0.075583  0.283055   \n",
       "health              0.067665            0.086337  0.101361  0.104436   \n",
       "absences            0.059654            0.019209 -0.080793  0.028040   \n",
       "score              -0.331450           -0.120601  0.040078  0.021726   \n",
       "\n",
       "                       goout    health  absences     score  \n",
       "age                 0.107076 -0.062275  0.082868 -0.148832  \n",
       "Medu                0.072158 -0.073154 -0.012594  0.205382  \n",
       "Fedu                0.024714  0.010998  0.030154  0.132420  \n",
       "traveltime          0.015826 -0.034275 -0.064070 -0.062583  \n",
       "studytime          -0.064398 -0.086337 -0.019209  0.120601  \n",
       "failures            0.123837  0.067665  0.059654 -0.331450  \n",
       "studytime_granular  0.064398  0.086337  0.019209 -0.120601  \n",
       "famrel              0.075583  0.101361 -0.080793  0.040078  \n",
       "freetime            0.283055  0.104436  0.028040  0.021726  \n",
       "goout               1.000000 -0.023786 -0.052891 -0.137584  \n",
       "health             -0.023786  1.000000 -0.022635 -0.059363  \n",
       "absences           -0.052891 -0.022635  1.000000  0.077729  \n",
       "score              -0.137584 -0.059363  0.077729  1.000000  "
      ]
     },
     "execution_count": 48,
     "metadata": {},
     "output_type": "execute_result"
    }
   ],
   "source": [
    "df_stud_math.corr()"
   ]
  },
  {
   "cell_type": "code",
   "execution_count": null,
   "id": "7f32c470",
   "metadata": {},
   "outputs": [],
   "source": []
  },
  {
   "cell_type": "code",
   "execution_count": 37,
   "id": "3032c4ab",
   "metadata": {},
   "outputs": [
    {
     "data": {
      "text/html": [
       "<div>\n",
       "<style scoped>\n",
       "    .dataframe tbody tr th:only-of-type {\n",
       "        vertical-align: middle;\n",
       "    }\n",
       "\n",
       "    .dataframe tbody tr th {\n",
       "        vertical-align: top;\n",
       "    }\n",
       "\n",
       "    .dataframe thead th {\n",
       "        text-align: right;\n",
       "    }\n",
       "</style>\n",
       "<table border=\"1\" class=\"dataframe\">\n",
       "  <thead>\n",
       "    <tr style=\"text-align: right;\">\n",
       "      <th></th>\n",
       "      <th>school</th>\n",
       "      <th>sex</th>\n",
       "      <th>age</th>\n",
       "      <th>address</th>\n",
       "      <th>famsize</th>\n",
       "      <th>Pstatus</th>\n",
       "      <th>Medu</th>\n",
       "      <th>Fedu</th>\n",
       "      <th>Mjob</th>\n",
       "      <th>Fjob</th>\n",
       "      <th>reason</th>\n",
       "      <th>guardian</th>\n",
       "      <th>traveltime</th>\n",
       "      <th>studytime</th>\n",
       "      <th>failures</th>\n",
       "      <th>schoolsup</th>\n",
       "      <th>famsup</th>\n",
       "      <th>paid</th>\n",
       "      <th>activities</th>\n",
       "      <th>nursery</th>\n",
       "      <th>studytime_granular</th>\n",
       "      <th>higher</th>\n",
       "      <th>internet</th>\n",
       "      <th>romantic</th>\n",
       "      <th>famrel</th>\n",
       "      <th>freetime</th>\n",
       "      <th>goout</th>\n",
       "      <th>health</th>\n",
       "      <th>absences</th>\n",
       "      <th>score</th>\n",
       "    </tr>\n",
       "  </thead>\n",
       "  <tbody>\n",
       "    <tr>\n",
       "      <th>0</th>\n",
       "      <td>GP</td>\n",
       "      <td>F</td>\n",
       "      <td>18</td>\n",
       "      <td>U</td>\n",
       "      <td>nan</td>\n",
       "      <td>A</td>\n",
       "      <td>4.0</td>\n",
       "      <td>4.0</td>\n",
       "      <td>at_home</td>\n",
       "      <td>teacher</td>\n",
       "      <td>course</td>\n",
       "      <td>mother</td>\n",
       "      <td>2.0</td>\n",
       "      <td>2.0</td>\n",
       "      <td>0.0</td>\n",
       "      <td>yes</td>\n",
       "      <td>no</td>\n",
       "      <td>no</td>\n",
       "      <td>no</td>\n",
       "      <td>yes</td>\n",
       "      <td>-6.0</td>\n",
       "      <td>yes</td>\n",
       "      <td>nan</td>\n",
       "      <td>no</td>\n",
       "      <td>4.0</td>\n",
       "      <td>3.0</td>\n",
       "      <td>4.0</td>\n",
       "      <td>3.0</td>\n",
       "      <td>6.0</td>\n",
       "      <td>30.0</td>\n",
       "    </tr>\n",
       "    <tr>\n",
       "      <th>1</th>\n",
       "      <td>GP</td>\n",
       "      <td>F</td>\n",
       "      <td>17</td>\n",
       "      <td>U</td>\n",
       "      <td>GT3</td>\n",
       "      <td>nan</td>\n",
       "      <td>1.0</td>\n",
       "      <td>1.0</td>\n",
       "      <td>at_home</td>\n",
       "      <td>other</td>\n",
       "      <td>course</td>\n",
       "      <td>father</td>\n",
       "      <td>1.0</td>\n",
       "      <td>2.0</td>\n",
       "      <td>0.0</td>\n",
       "      <td>no</td>\n",
       "      <td>yes</td>\n",
       "      <td>no</td>\n",
       "      <td>no</td>\n",
       "      <td>no</td>\n",
       "      <td>-6.0</td>\n",
       "      <td>yes</td>\n",
       "      <td>yes</td>\n",
       "      <td>no</td>\n",
       "      <td>5.0</td>\n",
       "      <td>3.0</td>\n",
       "      <td>3.0</td>\n",
       "      <td>3.0</td>\n",
       "      <td>4.0</td>\n",
       "      <td>30.0</td>\n",
       "    </tr>\n",
       "    <tr>\n",
       "      <th>2</th>\n",
       "      <td>GP</td>\n",
       "      <td>F</td>\n",
       "      <td>15</td>\n",
       "      <td>U</td>\n",
       "      <td>LE3</td>\n",
       "      <td>T</td>\n",
       "      <td>1.0</td>\n",
       "      <td>1.0</td>\n",
       "      <td>at_home</td>\n",
       "      <td>other</td>\n",
       "      <td>other</td>\n",
       "      <td>mother</td>\n",
       "      <td>1.0</td>\n",
       "      <td>2.0</td>\n",
       "      <td>3.0</td>\n",
       "      <td>yes</td>\n",
       "      <td>no</td>\n",
       "      <td>nan</td>\n",
       "      <td>no</td>\n",
       "      <td>yes</td>\n",
       "      <td>-6.0</td>\n",
       "      <td>yes</td>\n",
       "      <td>yes</td>\n",
       "      <td>nan</td>\n",
       "      <td>4.0</td>\n",
       "      <td>3.0</td>\n",
       "      <td>2.0</td>\n",
       "      <td>3.0</td>\n",
       "      <td>10.0</td>\n",
       "      <td>50.0</td>\n",
       "    </tr>\n",
       "    <tr>\n",
       "      <th>3</th>\n",
       "      <td>GP</td>\n",
       "      <td>F</td>\n",
       "      <td>15</td>\n",
       "      <td>U</td>\n",
       "      <td>GT3</td>\n",
       "      <td>T</td>\n",
       "      <td>4.0</td>\n",
       "      <td>2.0</td>\n",
       "      <td>health</td>\n",
       "      <td>nan</td>\n",
       "      <td>home</td>\n",
       "      <td>mother</td>\n",
       "      <td>1.0</td>\n",
       "      <td>3.0</td>\n",
       "      <td>0.0</td>\n",
       "      <td>no</td>\n",
       "      <td>yes</td>\n",
       "      <td>yes</td>\n",
       "      <td>yes</td>\n",
       "      <td>yes</td>\n",
       "      <td>-9.0</td>\n",
       "      <td>yes</td>\n",
       "      <td>yes</td>\n",
       "      <td>yes</td>\n",
       "      <td>3.0</td>\n",
       "      <td>2.0</td>\n",
       "      <td>2.0</td>\n",
       "      <td>5.0</td>\n",
       "      <td>2.0</td>\n",
       "      <td>75.0</td>\n",
       "    </tr>\n",
       "    <tr>\n",
       "      <th>4</th>\n",
       "      <td>GP</td>\n",
       "      <td>F</td>\n",
       "      <td>16</td>\n",
       "      <td>U</td>\n",
       "      <td>GT3</td>\n",
       "      <td>T</td>\n",
       "      <td>3.0</td>\n",
       "      <td>3.0</td>\n",
       "      <td>other</td>\n",
       "      <td>other</td>\n",
       "      <td>home</td>\n",
       "      <td>father</td>\n",
       "      <td>1.0</td>\n",
       "      <td>2.0</td>\n",
       "      <td>0.0</td>\n",
       "      <td>no</td>\n",
       "      <td>yes</td>\n",
       "      <td>yes</td>\n",
       "      <td>no</td>\n",
       "      <td>yes</td>\n",
       "      <td>-6.0</td>\n",
       "      <td>yes</td>\n",
       "      <td>no</td>\n",
       "      <td>no</td>\n",
       "      <td>4.0</td>\n",
       "      <td>3.0</td>\n",
       "      <td>2.0</td>\n",
       "      <td>5.0</td>\n",
       "      <td>4.0</td>\n",
       "      <td>50.0</td>\n",
       "    </tr>\n",
       "    <tr>\n",
       "      <th>5</th>\n",
       "      <td>GP</td>\n",
       "      <td>M</td>\n",
       "      <td>16</td>\n",
       "      <td>U</td>\n",
       "      <td>LE3</td>\n",
       "      <td>T</td>\n",
       "      <td>4.0</td>\n",
       "      <td>3.0</td>\n",
       "      <td>services</td>\n",
       "      <td>other</td>\n",
       "      <td>reputation</td>\n",
       "      <td>mother</td>\n",
       "      <td>1.0</td>\n",
       "      <td>2.0</td>\n",
       "      <td>0.0</td>\n",
       "      <td>no</td>\n",
       "      <td>yes</td>\n",
       "      <td>yes</td>\n",
       "      <td>yes</td>\n",
       "      <td>yes</td>\n",
       "      <td>-6.0</td>\n",
       "      <td>yes</td>\n",
       "      <td>yes</td>\n",
       "      <td>no</td>\n",
       "      <td>5.0</td>\n",
       "      <td>4.0</td>\n",
       "      <td>2.0</td>\n",
       "      <td>5.0</td>\n",
       "      <td>10.0</td>\n",
       "      <td>75.0</td>\n",
       "    </tr>\n",
       "    <tr>\n",
       "      <th>6</th>\n",
       "      <td>GP</td>\n",
       "      <td>M</td>\n",
       "      <td>16</td>\n",
       "      <td>nan</td>\n",
       "      <td>LE3</td>\n",
       "      <td>T</td>\n",
       "      <td>2.0</td>\n",
       "      <td>2.0</td>\n",
       "      <td>other</td>\n",
       "      <td>other</td>\n",
       "      <td>home</td>\n",
       "      <td>mother</td>\n",
       "      <td>1.0</td>\n",
       "      <td>2.0</td>\n",
       "      <td>0.0</td>\n",
       "      <td>no</td>\n",
       "      <td>no</td>\n",
       "      <td>no</td>\n",
       "      <td>no</td>\n",
       "      <td>yes</td>\n",
       "      <td>-6.0</td>\n",
       "      <td>yes</td>\n",
       "      <td>yes</td>\n",
       "      <td>no</td>\n",
       "      <td>4.0</td>\n",
       "      <td>4.0</td>\n",
       "      <td>4.0</td>\n",
       "      <td>3.0</td>\n",
       "      <td>0.0</td>\n",
       "      <td>55.0</td>\n",
       "    </tr>\n",
       "    <tr>\n",
       "      <th>7</th>\n",
       "      <td>GP</td>\n",
       "      <td>F</td>\n",
       "      <td>17</td>\n",
       "      <td>U</td>\n",
       "      <td>GT3</td>\n",
       "      <td>A</td>\n",
       "      <td>4.0</td>\n",
       "      <td>4.0</td>\n",
       "      <td>other</td>\n",
       "      <td>teacher</td>\n",
       "      <td>home</td>\n",
       "      <td>mother</td>\n",
       "      <td>2.0</td>\n",
       "      <td>2.0</td>\n",
       "      <td>0.0</td>\n",
       "      <td>yes</td>\n",
       "      <td>yes</td>\n",
       "      <td>no</td>\n",
       "      <td>no</td>\n",
       "      <td>yes</td>\n",
       "      <td>-6.0</td>\n",
       "      <td>yes</td>\n",
       "      <td>no</td>\n",
       "      <td>no</td>\n",
       "      <td>4.0</td>\n",
       "      <td>1.0</td>\n",
       "      <td>4.0</td>\n",
       "      <td>1.0</td>\n",
       "      <td>6.0</td>\n",
       "      <td>30.0</td>\n",
       "    </tr>\n",
       "    <tr>\n",
       "      <th>9</th>\n",
       "      <td>GP</td>\n",
       "      <td>M</td>\n",
       "      <td>15</td>\n",
       "      <td>U</td>\n",
       "      <td>nan</td>\n",
       "      <td>nan</td>\n",
       "      <td>3.0</td>\n",
       "      <td>4.0</td>\n",
       "      <td>other</td>\n",
       "      <td>other</td>\n",
       "      <td>home</td>\n",
       "      <td>mother</td>\n",
       "      <td>1.0</td>\n",
       "      <td>2.0</td>\n",
       "      <td>0.0</td>\n",
       "      <td>no</td>\n",
       "      <td>yes</td>\n",
       "      <td>yes</td>\n",
       "      <td>yes</td>\n",
       "      <td>yes</td>\n",
       "      <td>-6.0</td>\n",
       "      <td>yes</td>\n",
       "      <td>yes</td>\n",
       "      <td>no</td>\n",
       "      <td>5.0</td>\n",
       "      <td>5.0</td>\n",
       "      <td>1.0</td>\n",
       "      <td>5.0</td>\n",
       "      <td>0.0</td>\n",
       "      <td>75.0</td>\n",
       "    </tr>\n",
       "    <tr>\n",
       "      <th>10</th>\n",
       "      <td>GP</td>\n",
       "      <td>F</td>\n",
       "      <td>15</td>\n",
       "      <td>U</td>\n",
       "      <td>GT3</td>\n",
       "      <td>T</td>\n",
       "      <td>4.0</td>\n",
       "      <td>4.0</td>\n",
       "      <td>teacher</td>\n",
       "      <td>health</td>\n",
       "      <td>reputation</td>\n",
       "      <td>mother</td>\n",
       "      <td>1.0</td>\n",
       "      <td>2.0</td>\n",
       "      <td>0.0</td>\n",
       "      <td>no</td>\n",
       "      <td>yes</td>\n",
       "      <td>yes</td>\n",
       "      <td>no</td>\n",
       "      <td>yes</td>\n",
       "      <td>-6.0</td>\n",
       "      <td>yes</td>\n",
       "      <td>yes</td>\n",
       "      <td>no</td>\n",
       "      <td>3.0</td>\n",
       "      <td>3.0</td>\n",
       "      <td>3.0</td>\n",
       "      <td>2.0</td>\n",
       "      <td>0.0</td>\n",
       "      <td>45.0</td>\n",
       "    </tr>\n",
       "  </tbody>\n",
       "</table>\n",
       "</div>"
      ],
      "text/plain": [
       "   school sex  age address famsize Pstatus  Medu  Fedu      Mjob     Fjob  \\\n",
       "0      GP   F   18       U     nan       A   4.0   4.0   at_home  teacher   \n",
       "1      GP   F   17       U     GT3     nan   1.0   1.0   at_home    other   \n",
       "2      GP   F   15       U     LE3       T   1.0   1.0   at_home    other   \n",
       "3      GP   F   15       U     GT3       T   4.0   2.0    health      nan   \n",
       "4      GP   F   16       U     GT3       T   3.0   3.0     other    other   \n",
       "5      GP   M   16       U     LE3       T   4.0   3.0  services    other   \n",
       "6      GP   M   16     nan     LE3       T   2.0   2.0     other    other   \n",
       "7      GP   F   17       U     GT3       A   4.0   4.0     other  teacher   \n",
       "9      GP   M   15       U     nan     nan   3.0   4.0     other    other   \n",
       "10     GP   F   15       U     GT3       T   4.0   4.0   teacher   health   \n",
       "\n",
       "        reason guardian  traveltime  studytime  failures schoolsup famsup  \\\n",
       "0       course   mother         2.0        2.0       0.0       yes     no   \n",
       "1       course   father         1.0        2.0       0.0        no    yes   \n",
       "2        other   mother         1.0        2.0       3.0       yes     no   \n",
       "3         home   mother         1.0        3.0       0.0        no    yes   \n",
       "4         home   father         1.0        2.0       0.0        no    yes   \n",
       "5   reputation   mother         1.0        2.0       0.0        no    yes   \n",
       "6         home   mother         1.0        2.0       0.0        no     no   \n",
       "7         home   mother         2.0        2.0       0.0       yes    yes   \n",
       "9         home   mother         1.0        2.0       0.0        no    yes   \n",
       "10  reputation   mother         1.0        2.0       0.0        no    yes   \n",
       "\n",
       "   paid activities nursery  studytime_granular higher internet romantic  \\\n",
       "0    no         no     yes                -6.0    yes      nan       no   \n",
       "1    no         no      no                -6.0    yes      yes       no   \n",
       "2   nan         no     yes                -6.0    yes      yes      nan   \n",
       "3   yes        yes     yes                -9.0    yes      yes      yes   \n",
       "4   yes         no     yes                -6.0    yes       no       no   \n",
       "5   yes        yes     yes                -6.0    yes      yes       no   \n",
       "6    no         no     yes                -6.0    yes      yes       no   \n",
       "7    no         no     yes                -6.0    yes       no       no   \n",
       "9   yes        yes     yes                -6.0    yes      yes       no   \n",
       "10  yes         no     yes                -6.0    yes      yes       no   \n",
       "\n",
       "    famrel  freetime  goout  health  absences  score  \n",
       "0      4.0       3.0    4.0     3.0       6.0   30.0  \n",
       "1      5.0       3.0    3.0     3.0       4.0   30.0  \n",
       "2      4.0       3.0    2.0     3.0      10.0   50.0  \n",
       "3      3.0       2.0    2.0     5.0       2.0   75.0  \n",
       "4      4.0       3.0    2.0     5.0       4.0   50.0  \n",
       "5      5.0       4.0    2.0     5.0      10.0   75.0  \n",
       "6      4.0       4.0    4.0     3.0       0.0   55.0  \n",
       "7      4.0       1.0    4.0     1.0       6.0   30.0  \n",
       "9      5.0       5.0    1.0     5.0       0.0   75.0  \n",
       "10     3.0       3.0    3.0     2.0       0.0   45.0  "
      ]
     },
     "metadata": {},
     "output_type": "display_data"
    }
   ],
   "source": [
    "display(df_stud_math.head(10))"
   ]
  }
 ],
 "metadata": {
  "kernelspec": {
   "display_name": "Python 3",
   "language": "python",
   "name": "python3"
  },
  "language_info": {
   "codemirror_mode": {
    "name": "ipython",
    "version": 3
   },
   "file_extension": ".py",
   "mimetype": "text/x-python",
   "name": "python",
   "nbconvert_exporter": "python",
   "pygments_lexer": "ipython3",
   "version": "3.8.8"
  }
 },
 "nbformat": 4,
 "nbformat_minor": 5
}
